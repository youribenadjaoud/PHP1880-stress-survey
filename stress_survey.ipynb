{
 "cells": [
  {
   "cell_type": "markdown",
   "metadata": {},
   "source": [
    "# PHP 1880 Stress Survey"
   ]
  },
  {
   "cell_type": "code",
   "execution_count": 1,
   "metadata": {},
   "outputs": [],
   "source": [
    "import pandas as pd\n",
    "import numpy as np\n",
    "from scipy import stats\n",
    "import seaborn as sns\n",
    "import matplotlib.pyplot as plt"
   ]
  },
  {
   "cell_type": "markdown",
   "metadata": {},
   "source": [
    "### Clean and Reverse Code"
   ]
  },
  {
   "cell_type": "code",
   "execution_count": 2,
   "metadata": {},
   "outputs": [],
   "source": [
    "survey = pd.read_csv(\"survey_2022.csv\", header=[1])"
   ]
  },
  {
   "cell_type": "code",
   "execution_count": 3,
   "metadata": {},
   "outputs": [],
   "source": [
    "survey.drop(\"end.comments\", axis=1, inplace=True)"
   ]
  },
  {
   "cell_type": "code",
   "execution_count": 4,
   "metadata": {},
   "outputs": [],
   "source": [
    "survey[\"email\"] = survey[\"email\"].str.lower()"
   ]
  },
  {
   "cell_type": "code",
   "execution_count": 5,
   "metadata": {},
   "outputs": [
    {
     "data": {
      "text/html": [
       "<div>\n",
       "<style scoped>\n",
       "    .dataframe tbody tr th:only-of-type {\n",
       "        vertical-align: middle;\n",
       "    }\n",
       "\n",
       "    .dataframe tbody tr th {\n",
       "        vertical-align: top;\n",
       "    }\n",
       "\n",
       "    .dataframe thead th {\n",
       "        text-align: right;\n",
       "    }\n",
       "</style>\n",
       "<table border=\"1\" class=\"dataframe\">\n",
       "  <thead>\n",
       "    <tr style=\"text-align: right;\">\n",
       "      <th></th>\n",
       "      <th>StartDate</th>\n",
       "      <th>EndDate</th>\n",
       "      <th>Timepoint</th>\n",
       "      <th>Status</th>\n",
       "      <th>Progress</th>\n",
       "      <th>Duration (in seconds)</th>\n",
       "      <th>Finished</th>\n",
       "      <th>RecordedDate</th>\n",
       "      <th>ResponseId</th>\n",
       "      <th>DistributionChannel</th>\n",
       "      <th>...</th>\n",
       "      <th>FF1_31</th>\n",
       "      <th>FF1_32</th>\n",
       "      <th>FF1_33</th>\n",
       "      <th>FF1_34</th>\n",
       "      <th>FF1_35</th>\n",
       "      <th>FF1_36</th>\n",
       "      <th>FF1_37</th>\n",
       "      <th>FF1_38</th>\n",
       "      <th>FF1_39</th>\n",
       "      <th>NPS_1</th>\n",
       "    </tr>\n",
       "  </thead>\n",
       "  <tbody>\n",
       "    <tr>\n",
       "      <th>0</th>\n",
       "      <td>9/12/22 11:35</td>\n",
       "      <td>9/12/22 11:41</td>\n",
       "      <td>pre</td>\n",
       "      <td>0</td>\n",
       "      <td>100</td>\n",
       "      <td>373</td>\n",
       "      <td>1</td>\n",
       "      <td>9/12/22 11:41</td>\n",
       "      <td>R_3lVmxt3snoB8yRq</td>\n",
       "      <td>anonymous</td>\n",
       "      <td>...</td>\n",
       "      <td>5</td>\n",
       "      <td>5</td>\n",
       "      <td>3</td>\n",
       "      <td>3</td>\n",
       "      <td>3</td>\n",
       "      <td>5</td>\n",
       "      <td>4</td>\n",
       "      <td>5</td>\n",
       "      <td>3</td>\n",
       "      <td>NaN</td>\n",
       "    </tr>\n",
       "    <tr>\n",
       "      <th>1</th>\n",
       "      <td>9/12/22 11:36</td>\n",
       "      <td>9/12/22 11:42</td>\n",
       "      <td>pre</td>\n",
       "      <td>0</td>\n",
       "      <td>100</td>\n",
       "      <td>369</td>\n",
       "      <td>1</td>\n",
       "      <td>9/12/22 11:42</td>\n",
       "      <td>R_qJ9CumQzcRiA825</td>\n",
       "      <td>anonymous</td>\n",
       "      <td>...</td>\n",
       "      <td>2</td>\n",
       "      <td>2</td>\n",
       "      <td>4</td>\n",
       "      <td>4</td>\n",
       "      <td>4</td>\n",
       "      <td>2</td>\n",
       "      <td>2</td>\n",
       "      <td>3</td>\n",
       "      <td>2</td>\n",
       "      <td>NaN</td>\n",
       "    </tr>\n",
       "    <tr>\n",
       "      <th>2</th>\n",
       "      <td>9/12/22 11:35</td>\n",
       "      <td>9/12/22 11:42</td>\n",
       "      <td>pre</td>\n",
       "      <td>0</td>\n",
       "      <td>100</td>\n",
       "      <td>424</td>\n",
       "      <td>1</td>\n",
       "      <td>9/12/22 11:42</td>\n",
       "      <td>R_1o1jMQm6j23Frof</td>\n",
       "      <td>anonymous</td>\n",
       "      <td>...</td>\n",
       "      <td>5</td>\n",
       "      <td>4</td>\n",
       "      <td>4</td>\n",
       "      <td>2</td>\n",
       "      <td>1</td>\n",
       "      <td>5</td>\n",
       "      <td>4</td>\n",
       "      <td>2</td>\n",
       "      <td>1</td>\n",
       "      <td>NaN</td>\n",
       "    </tr>\n",
       "    <tr>\n",
       "      <th>3</th>\n",
       "      <td>9/12/22 11:36</td>\n",
       "      <td>9/12/22 11:46</td>\n",
       "      <td>pre</td>\n",
       "      <td>0</td>\n",
       "      <td>100</td>\n",
       "      <td>585</td>\n",
       "      <td>1</td>\n",
       "      <td>9/12/22 11:46</td>\n",
       "      <td>R_3qwgX4ig3QLWIiC</td>\n",
       "      <td>anonymous</td>\n",
       "      <td>...</td>\n",
       "      <td>4</td>\n",
       "      <td>3</td>\n",
       "      <td>3</td>\n",
       "      <td>2</td>\n",
       "      <td>2</td>\n",
       "      <td>4</td>\n",
       "      <td>2</td>\n",
       "      <td>3</td>\n",
       "      <td>3</td>\n",
       "      <td>NaN</td>\n",
       "    </tr>\n",
       "    <tr>\n",
       "      <th>4</th>\n",
       "      <td>9/12/22 11:43</td>\n",
       "      <td>9/12/22 11:47</td>\n",
       "      <td>pre</td>\n",
       "      <td>0</td>\n",
       "      <td>100</td>\n",
       "      <td>244</td>\n",
       "      <td>1</td>\n",
       "      <td>9/12/22 11:47</td>\n",
       "      <td>R_1dvlD9W2XDVonU7</td>\n",
       "      <td>anonymous</td>\n",
       "      <td>...</td>\n",
       "      <td>4</td>\n",
       "      <td>1</td>\n",
       "      <td>2</td>\n",
       "      <td>4</td>\n",
       "      <td>4</td>\n",
       "      <td>3</td>\n",
       "      <td>2</td>\n",
       "      <td>4</td>\n",
       "      <td>4</td>\n",
       "      <td>NaN</td>\n",
       "    </tr>\n",
       "  </tbody>\n",
       "</table>\n",
       "<p>5 rows × 68 columns</p>\n",
       "</div>"
      ],
      "text/plain": [
       "       StartDate        EndDate Timepoint  Status  Progress  \\\n",
       "0  9/12/22 11:35  9/12/22 11:41       pre       0       100   \n",
       "1  9/12/22 11:36  9/12/22 11:42       pre       0       100   \n",
       "2  9/12/22 11:35  9/12/22 11:42       pre       0       100   \n",
       "3  9/12/22 11:36  9/12/22 11:46       pre       0       100   \n",
       "4  9/12/22 11:43  9/12/22 11:47       pre       0       100   \n",
       "\n",
       "   Duration (in seconds)  Finished   RecordedDate         ResponseId  \\\n",
       "0                    373         1  9/12/22 11:41  R_3lVmxt3snoB8yRq   \n",
       "1                    369         1  9/12/22 11:42  R_qJ9CumQzcRiA825   \n",
       "2                    424         1  9/12/22 11:42  R_1o1jMQm6j23Frof   \n",
       "3                    585         1  9/12/22 11:46  R_3qwgX4ig3QLWIiC   \n",
       "4                    244         1  9/12/22 11:47  R_1dvlD9W2XDVonU7   \n",
       "\n",
       "  DistributionChannel  ... FF1_31 FF1_32  FF1_33  FF1_34  FF1_35  FF1_36  \\\n",
       "0           anonymous  ...      5      5       3       3       3       5   \n",
       "1           anonymous  ...      2      2       4       4       4       2   \n",
       "2           anonymous  ...      5      4       4       2       1       5   \n",
       "3           anonymous  ...      4      3       3       2       2       4   \n",
       "4           anonymous  ...      4      1       2       4       4       3   \n",
       "\n",
       "   FF1_37  FF1_38  FF1_39  NPS_1  \n",
       "0       4       5       3    NaN  \n",
       "1       2       3       2    NaN  \n",
       "2       4       2       1    NaN  \n",
       "3       2       3       3    NaN  \n",
       "4       2       4       4    NaN  \n",
       "\n",
       "[5 rows x 68 columns]"
      ]
     },
     "execution_count": 5,
     "metadata": {},
     "output_type": "execute_result"
    }
   ],
   "source": [
    "survey.head()"
   ]
  },
  {
   "cell_type": "code",
   "execution_count": 6,
   "metadata": {},
   "outputs": [],
   "source": [
    "# PSS Reverse Score Items 4, 5, 6, 7, 9, 10, 13\n",
    "\n",
    "pss_reverse = [\"PS1_4\", \"PS1_5\", \"PS1_6\", \"PS1_7\", \"PS1_9\", \"PS1_10\", \"PS1_13\"]\n",
    "\n",
    "survey[pss_reverse] = survey[pss_reverse].replace({0: 4, 1: 3, 2: 2, 3: 1, 4: 0})"
   ]
  },
  {
   "cell_type": "code",
   "execution_count": 7,
   "metadata": {},
   "outputs": [],
   "source": [
    "# FFMQ Reverse Score Items 3, 5, 8, 10, 12, 13, 14, 16, 17, 18, 22, 23, 25, 28, 30, 34, 35, 38, 39\n",
    "\n",
    "ffmq_reverse = [\n",
    "    \"FF1_3\",\n",
    "    \"FF1_5\",\n",
    "    \"FF1_8\",\n",
    "    \"FF1_10\",\n",
    "    \"FF1_12\",\n",
    "    \"FF1_13\",\n",
    "    \"FF1_14\",\n",
    "    \"FF1_16\",\n",
    "    \"FF1_17\",\n",
    "    \"FF1_18\",\n",
    "    \"FF1_22\",\n",
    "    \"FF1_23\",\n",
    "    \"FF1_25\",\n",
    "    \"FF1_28\",\n",
    "    \"FF1_30\",\n",
    "    \"FF1_34\",\n",
    "    \"FF1_35\",\n",
    "    \"FF1_38\",\n",
    "    \"FF1_39\",\n",
    "]\n",
    "\n",
    "\n",
    "survey[ffmq_reverse] = survey[ffmq_reverse].replace({1: 5, 2: 4, 3: 3, 4: 2, 5: 1})"
   ]
  },
  {
   "cell_type": "code",
   "execution_count": 8,
   "metadata": {},
   "outputs": [],
   "source": [
    "pss_filter = [col for col in survey if col.startswith(\"PS1\")]\n",
    "ffmq_filter = [col for col in survey if col.startswith(\"FF1\")]"
   ]
  },
  {
   "cell_type": "markdown",
   "metadata": {},
   "source": [
    "### Split Pre/Post Survey and Run Analysis"
   ]
  },
  {
   "cell_type": "code",
   "execution_count": 9,
   "metadata": {},
   "outputs": [],
   "source": [
    "pre = survey.loc[survey.Timepoint == \"pre\"]\n",
    "post = survey.loc[survey.Timepoint == \"post\"]"
   ]
  },
  {
   "cell_type": "code",
   "execution_count": 10,
   "metadata": {},
   "outputs": [],
   "source": [
    "pre = pre.loc[pre.email.isin(post.email)]\n",
    "post = post.loc[post.email.isin(pre.email)]"
   ]
  },
  {
   "cell_type": "code",
   "execution_count": 11,
   "metadata": {},
   "outputs": [],
   "source": [
    "pre[\"PSS Total\"] = pre[pss_filter].sum(axis=1)\n",
    "\n",
    "post[\"PSS Total\"] = post[pss_filter].sum(axis=1)"
   ]
  },
  {
   "cell_type": "code",
   "execution_count": 12,
   "metadata": {},
   "outputs": [],
   "source": [
    "pre[\"FFMQ Total\"] = pre[ffmq_filter].sum(axis=1)\n",
    "\n",
    "post[\"FFMQ Total\"] = post[ffmq_filter].sum(axis=1)"
   ]
  },
  {
   "cell_type": "code",
   "execution_count": 13,
   "metadata": {},
   "outputs": [],
   "source": [
    "ffmq_observing = {\n",
    "    \"FF1_1\",\n",
    "    \"FF1_6\",\n",
    "    \"FF1_11\",\n",
    "    \"FF1_15\",\n",
    "    \"FF1_20\",\n",
    "    \"FF1_26\",\n",
    "    \"FF1_31\",\n",
    "    \"FF1_36\",\n",
    "}\n",
    "\n",
    "ffmq_describing = {\n",
    "    \"FF1_2\",\n",
    "    \"FF1_7\",\n",
    "    \"FF1_12\",\n",
    "    \"FF1_16\",\n",
    "    \"FF1_22\",\n",
    "    \"FF1_27\",\n",
    "    \"FF1_32\",\n",
    "    \"FF1_37\",\n",
    "}\n",
    "\n",
    "ffmq_acting = {\n",
    "    \"FF1_5\",\n",
    "    \"FF1_8\",\n",
    "    \"FF1_13\",\n",
    "    \"FF1_18\",\n",
    "    \"FF1_23\",\n",
    "    \"FF1_28\",\n",
    "    \"FF1_34\",\n",
    "    \"FF1_38\",\n",
    "}\n",
    "\n",
    "ffmq_nonjudging = {\n",
    "    \"FF1_3\",\n",
    "    \"FF1_10\",\n",
    "    \"FF1_14\",\n",
    "    \"FF1_17\",\n",
    "    \"FF1_25\",\n",
    "    \"FF1_30\",\n",
    "    \"FF1_35\",\n",
    "    \"FF1_39\",\n",
    "}\n",
    "\n",
    "ffmq_nonreactivity = {\n",
    "    \"FF1_4\",\n",
    "    \"FF1_9\",\n",
    "    \"FF1_19\",\n",
    "    \"FF1_21\",\n",
    "    \"FF1_24\",\n",
    "    \"FF1_29\",\n",
    "    \"FF1_33\",\n",
    "}\n",
    "\n",
    "pre[\"FFMQ Total Observing\"] = pre[ffmq_observing].sum(axis=1)\n",
    "pre[\"FFMQ Total Describing\"] = pre[ffmq_describing].sum(axis=1)\n",
    "pre[\"FFMQ Total Acting\"] = pre[ffmq_acting].sum(axis=1)\n",
    "pre[\"FFMQ Total Nonjudging\"] = pre[ffmq_nonjudging].sum(axis=1)\n",
    "pre[\"FFMQ Total Nonreactivity\"] = pre[ffmq_nonreactivity].sum(axis=1)\n",
    "\n",
    "post[\"FFMQ Total Observing\"] = post[ffmq_observing].sum(axis=1)\n",
    "post[\"FFMQ Total Describing\"] = post[ffmq_describing].sum(axis=1)\n",
    "post[\"FFMQ Total Acting\"] = post[ffmq_acting].sum(axis=1)\n",
    "post[\"FFMQ Total Nonjudging\"] = post[ffmq_nonjudging].sum(axis=1)\n",
    "post[\"FFMQ Total Nonreactivity\"] = post[ffmq_nonreactivity].sum(axis=1)"
   ]
  },
  {
   "cell_type": "code",
   "execution_count": 14,
   "metadata": {},
   "outputs": [
    {
     "data": {
      "text/plain": [
       "Ttest_relResult(statistic=1.1786499382844466, pvalue=0.24586553732007427)"
      ]
     },
     "execution_count": 14,
     "metadata": {},
     "output_type": "execute_result"
    }
   ],
   "source": [
    "# PSS T Test\n",
    "\n",
    "pss_stat = stats.ttest_rel(pre[\"PSS Total\"], post[\"PSS Total\"])\n",
    "pss_stat"
   ]
  },
  {
   "cell_type": "code",
   "execution_count": 15,
   "metadata": {},
   "outputs": [
    {
     "data": {
      "text/plain": [
       "count    39.000000\n",
       "mean     24.128205\n",
       "std       7.664613\n",
       "min       4.000000\n",
       "25%      19.000000\n",
       "50%      24.000000\n",
       "75%      27.500000\n",
       "max      42.000000\n",
       "Name: PSS Total, dtype: float64"
      ]
     },
     "execution_count": 15,
     "metadata": {},
     "output_type": "execute_result"
    }
   ],
   "source": [
    "# PSS Pre Descriptive\n",
    "\n",
    "pre[\"PSS Total\"].describe()"
   ]
  },
  {
   "cell_type": "code",
   "execution_count": 16,
   "metadata": {},
   "outputs": [
    {
     "data": {
      "text/plain": [
       "count    39.000000\n",
       "mean     21.871795\n",
       "std       8.721358\n",
       "min       3.000000\n",
       "25%      16.500000\n",
       "50%      22.000000\n",
       "75%      27.000000\n",
       "max      42.000000\n",
       "Name: PSS Total, dtype: float64"
      ]
     },
     "execution_count": 16,
     "metadata": {},
     "output_type": "execute_result"
    }
   ],
   "source": [
    "# PSS Post Descriptive\n",
    "\n",
    "post[\"PSS Total\"].describe()"
   ]
  },
  {
   "cell_type": "code",
   "execution_count": 17,
   "metadata": {},
   "outputs": [
    {
     "data": {
      "text/plain": [
       "Ttest_relResult(statistic=-3.2816918134530333, pvalue=0.0022172566349450574)"
      ]
     },
     "execution_count": 17,
     "metadata": {},
     "output_type": "execute_result"
    }
   ],
   "source": [
    "# FFMQ T Test\n",
    "\n",
    "ffmq_stat = stats.ttest_rel(pre[\"FFMQ Total\"], post[\"FFMQ Total\"])\n",
    "ffmq_stat"
   ]
  },
  {
   "cell_type": "code",
   "execution_count": 18,
   "metadata": {},
   "outputs": [
    {
     "data": {
      "text/plain": [
       "count     39.000000\n",
       "mean     122.717949\n",
       "std       17.288494\n",
       "min       85.000000\n",
       "25%      114.000000\n",
       "50%      122.000000\n",
       "75%      129.500000\n",
       "max      161.000000\n",
       "Name: FFMQ Total, dtype: float64"
      ]
     },
     "execution_count": 18,
     "metadata": {},
     "output_type": "execute_result"
    }
   ],
   "source": [
    "# FFMQ Pre Descriptive\n",
    "\n",
    "pre[\"FFMQ Total\"].describe()"
   ]
  },
  {
   "cell_type": "code",
   "execution_count": 19,
   "metadata": {},
   "outputs": [
    {
     "data": {
      "text/plain": [
       "count     39.000000\n",
       "mean     136.435897\n",
       "std       18.171399\n",
       "min      100.000000\n",
       "25%      121.500000\n",
       "50%      139.000000\n",
       "75%      150.000000\n",
       "max      171.000000\n",
       "Name: FFMQ Total, dtype: float64"
      ]
     },
     "execution_count": 19,
     "metadata": {},
     "output_type": "execute_result"
    }
   ],
   "source": [
    "# FFMQ Post Descriptive\n",
    "\n",
    "post[\"FFMQ Total\"].describe()"
   ]
  },
  {
   "cell_type": "code",
   "execution_count": 20,
   "metadata": {},
   "outputs": [
    {
     "data": {
      "text/plain": [
       "Ttest_relResult(statistic=-2.2887738005904352, pvalue=0.027741587802051687)"
      ]
     },
     "execution_count": 20,
     "metadata": {},
     "output_type": "execute_result"
    }
   ],
   "source": [
    "# FFMQ T Test Observing\n",
    "\n",
    "ffmq_observing_stat = stats.ttest_rel(\n",
    "    pre[\"FFMQ Total Observing\"], post[\"FFMQ Total Observing\"]\n",
    ")\n",
    "ffmq_observing_stat"
   ]
  },
  {
   "cell_type": "code",
   "execution_count": 21,
   "metadata": {},
   "outputs": [
    {
     "data": {
      "text/plain": [
       "Ttest_relResult(statistic=-1.8077378701782891, pvalue=0.07856799790307371)"
      ]
     },
     "execution_count": 21,
     "metadata": {},
     "output_type": "execute_result"
    }
   ],
   "source": [
    "# FFMQ T Test Describing\n",
    "\n",
    "ffmq_describing_stat = stats.ttest_rel(\n",
    "    pre[\"FFMQ Total Describing\"], post[\"FFMQ Total Describing\"]\n",
    ")\n",
    "ffmq_describing_stat"
   ]
  },
  {
   "cell_type": "code",
   "execution_count": 22,
   "metadata": {},
   "outputs": [
    {
     "data": {
      "text/plain": [
       "Ttest_relResult(statistic=-2.0485900789263356, pvalue=0.04745536910051016)"
      ]
     },
     "execution_count": 22,
     "metadata": {},
     "output_type": "execute_result"
    }
   ],
   "source": [
    "# FFMQ T Test Acting\n",
    "\n",
    "ffmq_acting_stat = stats.ttest_rel(pre[\"FFMQ Total Acting\"], post[\"FFMQ Total Acting\"])\n",
    "ffmq_acting_stat"
   ]
  },
  {
   "cell_type": "code",
   "execution_count": 23,
   "metadata": {},
   "outputs": [
    {
     "data": {
      "text/plain": [
       "Ttest_relResult(statistic=-1.9792381404455939, pvalue=0.05506818213758153)"
      ]
     },
     "execution_count": 23,
     "metadata": {},
     "output_type": "execute_result"
    }
   ],
   "source": [
    "# FFMQ T Test Nonjudging\n",
    "\n",
    "ffmq_nonjudging_stat = stats.ttest_rel(\n",
    "    pre[\"FFMQ Total Nonjudging\"], post[\"FFMQ Total Nonjudging\"]\n",
    ")\n",
    "ffmq_nonjudging_stat"
   ]
  },
  {
   "cell_type": "code",
   "execution_count": 24,
   "metadata": {},
   "outputs": [
    {
     "data": {
      "text/plain": [
       "Ttest_relResult(statistic=-3.029081432369017, pvalue=0.004394030429085912)"
      ]
     },
     "execution_count": 24,
     "metadata": {},
     "output_type": "execute_result"
    }
   ],
   "source": [
    "# FFMQ T Test Nonreactivity\n",
    "\n",
    "ffmq_nonreactivity_stat = stats.ttest_rel(\n",
    "    pre[\"FFMQ Total Nonreactivity\"], post[\"FFMQ Total Nonreactivity\"]\n",
    ")\n",
    "ffmq_nonreactivity_stat"
   ]
  },
  {
   "cell_type": "code",
   "execution_count": 25,
   "metadata": {},
   "outputs": [],
   "source": [
    "pre.NPS_1 = pre.NPS_1.round()\n",
    "post.NPS_1 = post.NPS_1.round()"
   ]
  },
  {
   "cell_type": "code",
   "execution_count": 26,
   "metadata": {},
   "outputs": [],
   "source": [
    "nps_dict = {range(9, 11): \"Promoters\", range(0, 7): \"Detractors\"}"
   ]
  },
  {
   "cell_type": "code",
   "execution_count": 27,
   "metadata": {},
   "outputs": [],
   "source": [
    "nps_pre_defined = pre.replace({\"NPS_1\": nps_dict})\n",
    "nps_post_defined = post.replace({\"NPS_1\": nps_dict})"
   ]
  },
  {
   "cell_type": "code",
   "execution_count": 28,
   "metadata": {},
   "outputs": [],
   "source": [
    "# NPS Pre Test\n",
    "\n",
    "# ((nps_pre_defined.NPS_1.str.count('Promoter').sum()/nps_post_defined.NPS_1.count())*100) - ((nps_pre_defined.NPS_1.str.count('Detractor').sum()/nps_post_defined.NPS_1.count())*100)"
   ]
  },
  {
   "cell_type": "code",
   "execution_count": 29,
   "metadata": {},
   "outputs": [
    {
     "data": {
      "text/plain": [
       "10.256410256410263"
      ]
     },
     "execution_count": 29,
     "metadata": {},
     "output_type": "execute_result"
    }
   ],
   "source": [
    "# NPS Post Test\n",
    "\n",
    "(\n",
    "    (\n",
    "        nps_post_defined.NPS_1.str.count(\"Promoter\").sum()\n",
    "        / nps_post_defined.NPS_1.count()\n",
    "    )\n",
    "    * 100\n",
    ") - (\n",
    "    (\n",
    "        nps_post_defined.NPS_1.str.count(\"Detractor\").sum()\n",
    "        / nps_post_defined.NPS_1.count()\n",
    "    )\n",
    "    * 100\n",
    ")"
   ]
  },
  {
   "cell_type": "code",
   "execution_count": 30,
   "metadata": {},
   "outputs": [
    {
     "data": {
      "text/plain": [
       "Series([], Name: NPS_1, dtype: int64)"
      ]
     },
     "execution_count": 30,
     "metadata": {},
     "output_type": "execute_result"
    }
   ],
   "source": [
    "# NPS Pre Values\n",
    "\n",
    "nps_pre_defined[\"NPS_1\"].value_counts()"
   ]
  },
  {
   "cell_type": "code",
   "execution_count": 31,
   "metadata": {},
   "outputs": [
    {
     "data": {
      "text/plain": [
       "Promoters     17\n",
       "Detractors    13\n",
       "8.0            5\n",
       "7.0            4\n",
       "Name: NPS_1, dtype: int64"
      ]
     },
     "execution_count": 31,
     "metadata": {},
     "output_type": "execute_result"
    }
   ],
   "source": [
    "# NPS Post Values\n",
    "\n",
    "nps_post_defined[\"NPS_1\"].value_counts()"
   ]
  },
  {
   "cell_type": "code",
   "execution_count": 32,
   "metadata": {},
   "outputs": [],
   "source": [
    "total = pre.append(post, ignore_index=True)"
   ]
  },
  {
   "cell_type": "markdown",
   "metadata": {},
   "source": [
    "### PSS Summary"
   ]
  },
  {
   "cell_type": "code",
   "execution_count": 33,
   "metadata": {},
   "outputs": [],
   "source": [
    "pss_total = pd.melt(total, id_vars=\"timepoint\", value_vars=\"PSS Total\")"
   ]
  },
  {
   "cell_type": "code",
   "execution_count": 34,
   "metadata": {},
   "outputs": [],
   "source": [
    "pss_total_grouped = pss_total.groupby(\"timepoint\", sort=False).mean().reset_index()"
   ]
  },
  {
   "cell_type": "code",
   "execution_count": 35,
   "metadata": {},
   "outputs": [
    {
     "data": {
      "text/html": [
       "<div>\n",
       "<style scoped>\n",
       "    .dataframe tbody tr th:only-of-type {\n",
       "        vertical-align: middle;\n",
       "    }\n",
       "\n",
       "    .dataframe tbody tr th {\n",
       "        vertical-align: top;\n",
       "    }\n",
       "\n",
       "    .dataframe thead th {\n",
       "        text-align: right;\n",
       "    }\n",
       "</style>\n",
       "<table border=\"1\" class=\"dataframe\">\n",
       "  <thead>\n",
       "    <tr style=\"text-align: right;\">\n",
       "      <th></th>\n",
       "      <th>timepoint</th>\n",
       "      <th>value</th>\n",
       "    </tr>\n",
       "  </thead>\n",
       "  <tbody>\n",
       "    <tr>\n",
       "      <th>0</th>\n",
       "      <td>1</td>\n",
       "      <td>24.128205</td>\n",
       "    </tr>\n",
       "    <tr>\n",
       "      <th>1</th>\n",
       "      <td>2</td>\n",
       "      <td>21.871795</td>\n",
       "    </tr>\n",
       "  </tbody>\n",
       "</table>\n",
       "</div>"
      ],
      "text/plain": [
       "   timepoint      value\n",
       "0          1  24.128205\n",
       "1          2  21.871795"
      ]
     },
     "execution_count": 35,
     "metadata": {},
     "output_type": "execute_result"
    }
   ],
   "source": [
    "pss_total_grouped"
   ]
  },
  {
   "cell_type": "code",
   "execution_count": 36,
   "metadata": {},
   "outputs": [
    {
     "name": "stderr",
     "output_type": "stream",
     "text": [
      "/var/folders/z9/gdw88pxx7pnfg5bk987tzgqh0000gn/T/ipykernel_79594/1029219241.py:24: UserWarning: FixedFormatter should only be used together with FixedLocator\n",
      "  ax.set_xticklabels(labels)\n"
     ]
    },
    {
     "data": {
      "text/plain": [
       "[Text(0.8, 0, ''),\n",
       " Text(1.0, 0, 'Baseline 2022'),\n",
       " Text(1.2000000000000002, 0, ''),\n",
       " Text(1.4000000000000001, 0, ''),\n",
       " Text(1.6, 0, ''),\n",
       " Text(1.8, 0, ''),\n",
       " Text(2.0, 0, 'Follow-Up 2022'),\n",
       " Text(2.2, 0, '')]"
      ]
     },
     "execution_count": 36,
     "metadata": {},
     "output_type": "execute_result"
    },
    {
     "data": {
      "image/png": "[encoded data removed]",
      "text/plain": [
       "<Figure size 1000x500 with 1 Axes>"
      ]
     },
     "metadata": {},
     "output_type": "display_data"
    }
   ],
   "source": [
    "fig, ax = plt.subplots(figsize=(10, 5), dpi=100)\n",
    "\n",
    "sns.lineplot(\n",
    "    data=pss_total_grouped, x=\"timepoint\", y=\"value\", ci=None, color=\"mediumblue\"\n",
    ")\n",
    "ax.set(xlabel=\"Time\", ylabel=\"Mean PSS Score\")\n",
    "ax.set(title=\"Percieved Stress Scale Changes Over the School Term\")\n",
    "\n",
    "\n",
    "for x, y in zip(pss_total_grouped[\"timepoint\"], pss_total_grouped[\"value\"]):\n",
    "    plt.text(\n",
    "        x=x, y=y + 0.02, s=\"{:.1f}\".format(y), color=\"black\", weight=\"semibold\"\n",
    "    )  # .set_backgroundcolor('lightblue')\n",
    "\n",
    "plt.text(\n",
    "    1 - 0.01,\n",
    "    23,\n",
    "    \"P = %3.4f\" % pss_stat.pvalue,\n",
    "    horizontalalignment=\"left\",\n",
    "    size=\"medium\",\n",
    "    color=\"darkred\",\n",
    "    weight=\"semibold\",\n",
    ")\n",
    "plt.text(\n",
    "    1 - 0.01,\n",
    "    22.8,\n",
    "    \"N = %3.0f\" % len(pre.index),\n",
    "    horizontalalignment=\"left\",\n",
    "    size=\"medium\",\n",
    "    color=\"darkred\",\n",
    "    weight=\"semibold\",\n",
    ")\n",
    "\n",
    "labels = [item.get_text() for item in ax.get_xticklabels()]\n",
    "labels[1] = \"Baseline 2022\"\n",
    "labels[6] = \"Follow-Up 2022\"\n",
    "\n",
    "ax.set_xticklabels(labels)"
   ]
  },
  {
   "cell_type": "markdown",
   "metadata": {},
   "source": [
    "### FFMQ Summary"
   ]
  },
  {
   "cell_type": "code",
   "execution_count": 37,
   "metadata": {},
   "outputs": [],
   "source": [
    "ffmq_total = pd.melt(total, id_vars=\"timepoint\", value_vars=\"FFMQ Total\")"
   ]
  },
  {
   "cell_type": "code",
   "execution_count": 38,
   "metadata": {},
   "outputs": [],
   "source": [
    "ffmq_total_grouped = ffmq_total.groupby(\"timepoint\", sort=False).mean().reset_index()"
   ]
  },
  {
   "cell_type": "code",
   "execution_count": 39,
   "metadata": {},
   "outputs": [
    {
     "data": {
      "text/html": [
       "<div>\n",
       "<style scoped>\n",
       "    .dataframe tbody tr th:only-of-type {\n",
       "        vertical-align: middle;\n",
       "    }\n",
       "\n",
       "    .dataframe tbody tr th {\n",
       "        vertical-align: top;\n",
       "    }\n",
       "\n",
       "    .dataframe thead th {\n",
       "        text-align: right;\n",
       "    }\n",
       "</style>\n",
       "<table border=\"1\" class=\"dataframe\">\n",
       "  <thead>\n",
       "    <tr style=\"text-align: right;\">\n",
       "      <th></th>\n",
       "      <th>timepoint</th>\n",
       "      <th>value</th>\n",
       "    </tr>\n",
       "  </thead>\n",
       "  <tbody>\n",
       "    <tr>\n",
       "      <th>0</th>\n",
       "      <td>1</td>\n",
       "      <td>122.717949</td>\n",
       "    </tr>\n",
       "    <tr>\n",
       "      <th>1</th>\n",
       "      <td>2</td>\n",
       "      <td>136.435897</td>\n",
       "    </tr>\n",
       "  </tbody>\n",
       "</table>\n",
       "</div>"
      ],
      "text/plain": [
       "   timepoint       value\n",
       "0          1  122.717949\n",
       "1          2  136.435897"
      ]
     },
     "execution_count": 39,
     "metadata": {},
     "output_type": "execute_result"
    }
   ],
   "source": [
    "ffmq_total_grouped"
   ]
  },
  {
   "cell_type": "code",
   "execution_count": 40,
   "metadata": {},
   "outputs": [
    {
     "name": "stderr",
     "output_type": "stream",
     "text": [
      "/var/folders/z9/gdw88pxx7pnfg5bk987tzgqh0000gn/T/ipykernel_79594/3794021242.py:24: UserWarning: FixedFormatter should only be used together with FixedLocator\n",
      "  ax.set_xticklabels(labels)\n"
     ]
    },
    {
     "data": {
      "text/plain": [
       "[Text(0.8, 0, ''),\n",
       " Text(1.0, 0, 'Baseline 2022'),\n",
       " Text(1.2000000000000002, 0, ''),\n",
       " Text(1.4000000000000001, 0, ''),\n",
       " Text(1.6, 0, ''),\n",
       " Text(1.8, 0, ''),\n",
       " Text(2.0, 0, 'Follow-Up 2022'),\n",
       " Text(2.2, 0, '')]"
      ]
     },
     "execution_count": 40,
     "metadata": {},
     "output_type": "execute_result"
    },
    {
     "data": {
      "image/png": "[encoded data removed]",
      "text/plain": [
       "<Figure size 1000x500 with 1 Axes>"
      ]
     },
     "metadata": {},
     "output_type": "display_data"
    }
   ],
   "source": [
    "fig, ax = plt.subplots(figsize=(10, 5), dpi=100)\n",
    "\n",
    "sns.lineplot(\n",
    "    data=ffmq_total_grouped, x=\"timepoint\", y=\"value\", ci=None, color=\"mediumblue\"\n",
    ")\n",
    "ax.set(xlabel=\"Time\", ylabel=\"Mean FFMQ Score\")\n",
    "ax.set(title=\"Five-Facet Mindfulness Questionnaire Changes Over the School Term\")\n",
    "\n",
    "\n",
    "for x, y in zip(ffmq_total_grouped[\"timepoint\"], ffmq_total_grouped[\"value\"]):\n",
    "    plt.text(\n",
    "        x=x, y=y - 0.4, s=\"{:.1f}\".format(y), color=\"black\", weight=\"semibold\"\n",
    "    )  # .set_backgroundcolor('lightblue')\n",
    "\n",
    "plt.text(\n",
    "    1 - 0.01,\n",
    "    130,\n",
    "    \"P = %3.4f\" % ffmq_stat.pvalue,\n",
    "    horizontalalignment=\"left\",\n",
    "    size=\"medium\",\n",
    "    color=\"darkred\",\n",
    "    weight=\"semibold\",\n",
    ")\n",
    "plt.text(\n",
    "    1 - 0.01,\n",
    "    129,\n",
    "    \"N = %3.0f\" % len(pre.index),\n",
    "    horizontalalignment=\"left\",\n",
    "    size=\"medium\",\n",
    "    color=\"darkred\",\n",
    "    weight=\"semibold\",\n",
    ")\n",
    "\n",
    "labels = [item.get_text() for item in ax.get_xticklabels()]\n",
    "labels[1] = \"Baseline 2022\"\n",
    "labels[6] = \"Follow-Up 2022\"\n",
    "\n",
    "ax.set_xticklabels(labels)"
   ]
  },
  {
   "cell_type": "markdown",
   "metadata": {},
   "source": [
    "### FFMQ Observing"
   ]
  },
  {
   "cell_type": "code",
   "execution_count": 41,
   "metadata": {},
   "outputs": [],
   "source": [
    "ffmq_observing = pd.melt(total, id_vars=\"timepoint\", value_vars=\"FFMQ Total Observing\")"
   ]
  },
  {
   "cell_type": "code",
   "execution_count": 42,
   "metadata": {},
   "outputs": [],
   "source": [
    "ffmq_observing_grouped = (\n",
    "    ffmq_observing.groupby(\"timepoint\", sort=False).mean().reset_index()\n",
    ")"
   ]
  },
  {
   "cell_type": "code",
   "execution_count": 43,
   "metadata": {},
   "outputs": [
    {
     "data": {
      "text/html": [
       "<div>\n",
       "<style scoped>\n",
       "    .dataframe tbody tr th:only-of-type {\n",
       "        vertical-align: middle;\n",
       "    }\n",
       "\n",
       "    .dataframe tbody tr th {\n",
       "        vertical-align: top;\n",
       "    }\n",
       "\n",
       "    .dataframe thead th {\n",
       "        text-align: right;\n",
       "    }\n",
       "</style>\n",
       "<table border=\"1\" class=\"dataframe\">\n",
       "  <thead>\n",
       "    <tr style=\"text-align: right;\">\n",
       "      <th></th>\n",
       "      <th>timepoint</th>\n",
       "      <th>value</th>\n",
       "    </tr>\n",
       "  </thead>\n",
       "  <tbody>\n",
       "    <tr>\n",
       "      <th>0</th>\n",
       "      <td>1</td>\n",
       "      <td>26.358974</td>\n",
       "    </tr>\n",
       "    <tr>\n",
       "      <th>1</th>\n",
       "      <td>2</td>\n",
       "      <td>29.076923</td>\n",
       "    </tr>\n",
       "  </tbody>\n",
       "</table>\n",
       "</div>"
      ],
      "text/plain": [
       "   timepoint      value\n",
       "0          1  26.358974\n",
       "1          2  29.076923"
      ]
     },
     "execution_count": 43,
     "metadata": {},
     "output_type": "execute_result"
    }
   ],
   "source": [
    "ffmq_observing_grouped"
   ]
  },
  {
   "cell_type": "code",
   "execution_count": 44,
   "metadata": {},
   "outputs": [
    {
     "name": "stderr",
     "output_type": "stream",
     "text": [
      "/var/folders/z9/gdw88pxx7pnfg5bk987tzgqh0000gn/T/ipykernel_79594/2945293096.py:24: UserWarning: FixedFormatter should only be used together with FixedLocator\n",
      "  ax.set_xticklabels(labels)\n"
     ]
    },
    {
     "data": {
      "text/plain": [
       "[Text(0.8, 0, ''),\n",
       " Text(1.0, 0, 'Baseline 2022'),\n",
       " Text(1.2000000000000002, 0, ''),\n",
       " Text(1.4000000000000001, 0, ''),\n",
       " Text(1.6, 0, ''),\n",
       " Text(1.8, 0, ''),\n",
       " Text(2.0, 0, 'Follow-Up 2022'),\n",
       " Text(2.2, 0, '')]"
      ]
     },
     "execution_count": 44,
     "metadata": {},
     "output_type": "execute_result"
    },
    {
     "data": {
      "image/png": "[encoded data removed]",
      "text/plain": [
       "<Figure size 1000x500 with 1 Axes>"
      ]
     },
     "metadata": {},
     "output_type": "display_data"
    }
   ],
   "source": [
    "fig, ax = plt.subplots(figsize=(10, 5), dpi=100)\n",
    "\n",
    "sns.lineplot(\n",
    "    data=ffmq_observing_grouped, x=\"timepoint\", y=\"value\", ci=None, color=\"mediumblue\"\n",
    ")\n",
    "ax.set(xlabel=\"Time\", ylabel=\"Mean FFMQ Observing Score\")\n",
    "ax.set(title=\"FFMQ Changes Over the School Term (Observing)\")\n",
    "\n",
    "\n",
    "for x, y in zip(ffmq_observing_grouped[\"timepoint\"], ffmq_observing_grouped[\"value\"]):\n",
    "    plt.text(\n",
    "        x=x, y=y - 0.1, s=\"{:.1f}\".format(y), color=\"black\", weight=\"semibold\"\n",
    "    )  # .set_backgroundcolor('lightblue')\n",
    "\n",
    "plt.text(\n",
    "    1,\n",
    "    28,\n",
    "    \"P = %3.4f\" % ffmq_observing_stat.pvalue,\n",
    "    horizontalalignment=\"left\",\n",
    "    size=\"medium\",\n",
    "    color=\"darkred\",\n",
    "    weight=\"semibold\",\n",
    ")\n",
    "plt.text(\n",
    "    1,\n",
    "    27.8,\n",
    "    \"N = %3.0f\" % len(pre.index),\n",
    "    horizontalalignment=\"left\",\n",
    "    size=\"medium\",\n",
    "    color=\"darkred\",\n",
    "    weight=\"semibold\",\n",
    ")\n",
    "\n",
    "labels = [item.get_text() for item in ax.get_xticklabels()]\n",
    "labels[1] = \"Baseline 2022\"\n",
    "labels[6] = \"Follow-Up 2022\"\n",
    "\n",
    "ax.set_xticklabels(labels)"
   ]
  },
  {
   "cell_type": "markdown",
   "metadata": {},
   "source": [
    "### FFMQ Describing"
   ]
  },
  {
   "cell_type": "code",
   "execution_count": 45,
   "metadata": {},
   "outputs": [],
   "source": [
    "ffmq_describing = pd.melt(\n",
    "    total, id_vars=\"timepoint\", value_vars=\"FFMQ Total Describing\"\n",
    ")"
   ]
  },
  {
   "cell_type": "code",
   "execution_count": 46,
   "metadata": {},
   "outputs": [],
   "source": [
    "ffmq_describing_grouped = (\n",
    "    ffmq_describing.groupby(\"timepoint\", sort=False).mean().reset_index()\n",
    ")"
   ]
  },
  {
   "cell_type": "code",
   "execution_count": 47,
   "metadata": {},
   "outputs": [
    {
     "data": {
      "text/html": [
       "<div>\n",
       "<style scoped>\n",
       "    .dataframe tbody tr th:only-of-type {\n",
       "        vertical-align: middle;\n",
       "    }\n",
       "\n",
       "    .dataframe tbody tr th {\n",
       "        vertical-align: top;\n",
       "    }\n",
       "\n",
       "    .dataframe thead th {\n",
       "        text-align: right;\n",
       "    }\n",
       "</style>\n",
       "<table border=\"1\" class=\"dataframe\">\n",
       "  <thead>\n",
       "    <tr style=\"text-align: right;\">\n",
       "      <th></th>\n",
       "      <th>timepoint</th>\n",
       "      <th>value</th>\n",
       "    </tr>\n",
       "  </thead>\n",
       "  <tbody>\n",
       "    <tr>\n",
       "      <th>0</th>\n",
       "      <td>1</td>\n",
       "      <td>27.153846</td>\n",
       "    </tr>\n",
       "    <tr>\n",
       "      <th>1</th>\n",
       "      <td>2</td>\n",
       "      <td>29.153846</td>\n",
       "    </tr>\n",
       "  </tbody>\n",
       "</table>\n",
       "</div>"
      ],
      "text/plain": [
       "   timepoint      value\n",
       "0          1  27.153846\n",
       "1          2  29.153846"
      ]
     },
     "execution_count": 47,
     "metadata": {},
     "output_type": "execute_result"
    }
   ],
   "source": [
    "ffmq_describing_grouped"
   ]
  },
  {
   "cell_type": "code",
   "execution_count": 48,
   "metadata": {},
   "outputs": [
    {
     "name": "stderr",
     "output_type": "stream",
     "text": [
      "/var/folders/z9/gdw88pxx7pnfg5bk987tzgqh0000gn/T/ipykernel_79594/3977240685.py:24: UserWarning: FixedFormatter should only be used together with FixedLocator\n",
      "  ax.set_xticklabels(labels)\n"
     ]
    },
    {
     "data": {
      "text/plain": [
       "[Text(0.8, 0, ''),\n",
       " Text(1.0, 0, 'Baseline 2022'),\n",
       " Text(1.2000000000000002, 0, ''),\n",
       " Text(1.4000000000000001, 0, ''),\n",
       " Text(1.6, 0, ''),\n",
       " Text(1.8, 0, ''),\n",
       " Text(2.0, 0, 'Follow-Up 2022'),\n",
       " Text(2.2, 0, '')]"
      ]
     },
     "execution_count": 48,
     "metadata": {},
     "output_type": "execute_result"
    },
    {
     "data": {
      "image/png": "[encoded data removed]",
      "text/plain": [
       "<Figure size 1000x500 with 1 Axes>"
      ]
     },
     "metadata": {},
     "output_type": "display_data"
    }
   ],
   "source": [
    "fig, ax = plt.subplots(figsize=(10, 5), dpi=100)\n",
    "\n",
    "sns.lineplot(\n",
    "    data=ffmq_describing_grouped, x=\"timepoint\", y=\"value\", ci=None, color=\"mediumblue\"\n",
    ")\n",
    "ax.set(xlabel=\"Time\", ylabel=\"Mean FFMQ Describing Score\")\n",
    "ax.set(title=\"FFMQ Changes Over the School Term (Describing)\")\n",
    "\n",
    "\n",
    "for x, y in zip(ffmq_describing_grouped[\"timepoint\"], ffmq_describing_grouped[\"value\"]):\n",
    "    plt.text(\n",
    "        x=x, y=y - 0.07, s=\"{:.1f}\".format(y), color=\"black\", weight=\"semibold\"\n",
    "    )  # .set_backgroundcolor('lightblue')\n",
    "\n",
    "plt.text(\n",
    "    1,\n",
    "    28,\n",
    "    \"P = %3.4f\" % ffmq_describing_stat.pvalue,\n",
    "    horizontalalignment=\"left\",\n",
    "    size=\"medium\",\n",
    "    color=\"darkred\",\n",
    "    weight=\"semibold\",\n",
    ")\n",
    "plt.text(\n",
    "    1,\n",
    "    27.8,\n",
    "    \"N = %3.0f\" % len(pre.index),\n",
    "    horizontalalignment=\"left\",\n",
    "    size=\"medium\",\n",
    "    color=\"darkred\",\n",
    "    weight=\"semibold\",\n",
    ")\n",
    "\n",
    "labels = [item.get_text() for item in ax.get_xticklabels()]\n",
    "labels[1] = \"Baseline 2022\"\n",
    "labels[6] = \"Follow-Up 2022\"\n",
    "\n",
    "ax.set_xticklabels(labels)"
   ]
  },
  {
   "cell_type": "markdown",
   "metadata": {},
   "source": [
    "### FFMQ Acting"
   ]
  },
  {
   "cell_type": "code",
   "execution_count": 49,
   "metadata": {},
   "outputs": [],
   "source": [
    "ffmq_acting = pd.melt(total, id_vars=\"timepoint\", value_vars=\"FFMQ Total Acting\")"
   ]
  },
  {
   "cell_type": "code",
   "execution_count": 50,
   "metadata": {},
   "outputs": [],
   "source": [
    "ffmq_acting_grouped = ffmq_acting.groupby(\"timepoint\", sort=False).mean().reset_index()"
   ]
  },
  {
   "cell_type": "code",
   "execution_count": 51,
   "metadata": {},
   "outputs": [
    {
     "data": {
      "text/html": [
       "<div>\n",
       "<style scoped>\n",
       "    .dataframe tbody tr th:only-of-type {\n",
       "        vertical-align: middle;\n",
       "    }\n",
       "\n",
       "    .dataframe tbody tr th {\n",
       "        vertical-align: top;\n",
       "    }\n",
       "\n",
       "    .dataframe thead th {\n",
       "        text-align: right;\n",
       "    }\n",
       "</style>\n",
       "<table border=\"1\" class=\"dataframe\">\n",
       "  <thead>\n",
       "    <tr style=\"text-align: right;\">\n",
       "      <th></th>\n",
       "      <th>timepoint</th>\n",
       "      <th>value</th>\n",
       "    </tr>\n",
       "  </thead>\n",
       "  <tbody>\n",
       "    <tr>\n",
       "      <th>0</th>\n",
       "      <td>1</td>\n",
       "      <td>23.794872</td>\n",
       "    </tr>\n",
       "    <tr>\n",
       "      <th>1</th>\n",
       "      <td>2</td>\n",
       "      <td>26.256410</td>\n",
       "    </tr>\n",
       "  </tbody>\n",
       "</table>\n",
       "</div>"
      ],
      "text/plain": [
       "   timepoint      value\n",
       "0          1  23.794872\n",
       "1          2  26.256410"
      ]
     },
     "execution_count": 51,
     "metadata": {},
     "output_type": "execute_result"
    }
   ],
   "source": [
    "ffmq_acting_grouped"
   ]
  },
  {
   "cell_type": "code",
   "execution_count": 52,
   "metadata": {},
   "outputs": [
    {
     "name": "stderr",
     "output_type": "stream",
     "text": [
      "/var/folders/z9/gdw88pxx7pnfg5bk987tzgqh0000gn/T/ipykernel_79594/3854650447.py:24: UserWarning: FixedFormatter should only be used together with FixedLocator\n",
      "  ax.set_xticklabels(labels)\n"
     ]
    },
    {
     "data": {
      "text/plain": [
       "[Text(0.8, 0, ''),\n",
       " Text(1.0, 0, 'Baseline 2022'),\n",
       " Text(1.2000000000000002, 0, ''),\n",
       " Text(1.4000000000000001, 0, ''),\n",
       " Text(1.6, 0, ''),\n",
       " Text(1.8, 0, ''),\n",
       " Text(2.0, 0, 'Follow-Up 2022'),\n",
       " Text(2.2, 0, '')]"
      ]
     },
     "execution_count": 52,
     "metadata": {},
     "output_type": "execute_result"
    },
    {
     "data": {
      "image/png": "[encoded data removed]",
      "text/plain": [
       "<Figure size 1000x500 with 1 Axes>"
      ]
     },
     "metadata": {},
     "output_type": "display_data"
    }
   ],
   "source": [
    "fig, ax = plt.subplots(figsize=(10, 5), dpi=100)\n",
    "\n",
    "sns.lineplot(\n",
    "    data=ffmq_acting_grouped, x=\"timepoint\", y=\"value\", ci=None, color=\"mediumblue\"\n",
    ")\n",
    "ax.set(xlabel=\"Time\", ylabel=\"Mean FFMQ Acting Score\")\n",
    "ax.set(title=\"FFMQ Changes Over the School Term (Acting With Awareness)\")\n",
    "\n",
    "\n",
    "for x, y in zip(ffmq_acting_grouped[\"timepoint\"], ffmq_acting_grouped[\"value\"]):\n",
    "    plt.text(\n",
    "        x=x, y=y - 0.08, s=\"{:.1f}\".format(y), color=\"black\", weight=\"semibold\"\n",
    "    )  # .set_backgroundcolor('lightblue')\n",
    "\n",
    "plt.text(\n",
    "    1,\n",
    "    25,\n",
    "    \"P = %3.4f\" % ffmq_acting_stat.pvalue,\n",
    "    horizontalalignment=\"left\",\n",
    "    size=\"medium\",\n",
    "    color=\"darkred\",\n",
    "    weight=\"semibold\",\n",
    ")\n",
    "plt.text(\n",
    "    1,\n",
    "    24.9,\n",
    "    \"N = %3.0f\" % len(pre.index),\n",
    "    horizontalalignment=\"left\",\n",
    "    size=\"medium\",\n",
    "    color=\"darkred\",\n",
    "    weight=\"semibold\",\n",
    ")\n",
    "\n",
    "labels = [item.get_text() for item in ax.get_xticklabels()]\n",
    "labels[1] = \"Baseline 2022\"\n",
    "labels[6] = \"Follow-Up 2022\"\n",
    "\n",
    "ax.set_xticklabels(labels)"
   ]
  },
  {
   "cell_type": "markdown",
   "metadata": {},
   "source": [
    "### FFMQ Nonjudging"
   ]
  },
  {
   "cell_type": "code",
   "execution_count": 53,
   "metadata": {},
   "outputs": [],
   "source": [
    "ffmq_nonjudging = pd.melt(\n",
    "    total, id_vars=\"timepoint\", value_vars=\"FFMQ Total Nonjudging\"\n",
    ")"
   ]
  },
  {
   "cell_type": "code",
   "execution_count": 54,
   "metadata": {},
   "outputs": [],
   "source": [
    "ffmq_nonjudging_grouped = (\n",
    "    ffmq_nonjudging.groupby(\"timepoint\", sort=False).mean().reset_index()\n",
    ")"
   ]
  },
  {
   "cell_type": "code",
   "execution_count": 55,
   "metadata": {},
   "outputs": [
    {
     "data": {
      "text/html": [
       "<div>\n",
       "<style scoped>\n",
       "    .dataframe tbody tr th:only-of-type {\n",
       "        vertical-align: middle;\n",
       "    }\n",
       "\n",
       "    .dataframe tbody tr th {\n",
       "        vertical-align: top;\n",
       "    }\n",
       "\n",
       "    .dataframe thead th {\n",
       "        text-align: right;\n",
       "    }\n",
       "</style>\n",
       "<table border=\"1\" class=\"dataframe\">\n",
       "  <thead>\n",
       "    <tr style=\"text-align: right;\">\n",
       "      <th></th>\n",
       "      <th>timepoint</th>\n",
       "      <th>value</th>\n",
       "    </tr>\n",
       "  </thead>\n",
       "  <tbody>\n",
       "    <tr>\n",
       "      <th>0</th>\n",
       "      <td>1</td>\n",
       "      <td>25.076923</td>\n",
       "    </tr>\n",
       "    <tr>\n",
       "      <th>1</th>\n",
       "      <td>2</td>\n",
       "      <td>28.282051</td>\n",
       "    </tr>\n",
       "  </tbody>\n",
       "</table>\n",
       "</div>"
      ],
      "text/plain": [
       "   timepoint      value\n",
       "0          1  25.076923\n",
       "1          2  28.282051"
      ]
     },
     "execution_count": 55,
     "metadata": {},
     "output_type": "execute_result"
    }
   ],
   "source": [
    "ffmq_nonjudging_grouped"
   ]
  },
  {
   "cell_type": "code",
   "execution_count": 56,
   "metadata": {},
   "outputs": [
    {
     "name": "stderr",
     "output_type": "stream",
     "text": [
      "/var/folders/z9/gdw88pxx7pnfg5bk987tzgqh0000gn/T/ipykernel_79594/4155225546.py:24: UserWarning: FixedFormatter should only be used together with FixedLocator\n",
      "  ax.set_xticklabels(labels)\n"
     ]
    },
    {
     "data": {
      "text/plain": [
       "[Text(0.8, 0, ''),\n",
       " Text(1.0, 0, 'Baseline 2022'),\n",
       " Text(1.2000000000000002, 0, ''),\n",
       " Text(1.4000000000000001, 0, ''),\n",
       " Text(1.6, 0, ''),\n",
       " Text(1.8, 0, ''),\n",
       " Text(2.0, 0, 'Follow-Up 2022'),\n",
       " Text(2.2, 0, '')]"
      ]
     },
     "execution_count": 56,
     "metadata": {},
     "output_type": "execute_result"
    },
    {
     "data": {
      "image/png": "[encoded data removed]",
      "text/plain": [
       "<Figure size 1000x500 with 1 Axes>"
      ]
     },
     "metadata": {},
     "output_type": "display_data"
    }
   ],
   "source": [
    "fig, ax = plt.subplots(figsize=(10, 5), dpi=100)\n",
    "\n",
    "sns.lineplot(\n",
    "    data=ffmq_nonjudging_grouped, x=\"timepoint\", y=\"value\", ci=None, color=\"mediumblue\"\n",
    ")\n",
    "ax.set(xlabel=\"Time\", ylabel=\"Mean FFMQ Nonjudging Score\")\n",
    "ax.set(title=\"FFMQ Changes Over the School Term (Nonjudging of Inner Experience)\")\n",
    "\n",
    "\n",
    "for x, y in zip(ffmq_nonjudging_grouped[\"timepoint\"], ffmq_nonjudging_grouped[\"value\"]):\n",
    "    plt.text(\n",
    "        x=x, y=y - 0.1, s=\"{:.1f}\".format(y), color=\"black\", weight=\"semibold\"\n",
    "    )  # .set_backgroundcolor('lightblue')\n",
    "\n",
    "plt.text(\n",
    "    1,\n",
    "    27,\n",
    "    \"P = %3.4f\" % ffmq_nonjudging_stat.pvalue,\n",
    "    horizontalalignment=\"left\",\n",
    "    size=\"medium\",\n",
    "    color=\"darkred\",\n",
    "    weight=\"semibold\",\n",
    ")\n",
    "plt.text(\n",
    "    1,\n",
    "    26.8,\n",
    "    \"N = %3.0f\" % len(pre.index),\n",
    "    horizontalalignment=\"left\",\n",
    "    size=\"medium\",\n",
    "    color=\"darkred\",\n",
    "    weight=\"semibold\",\n",
    ")\n",
    "\n",
    "labels = [item.get_text() for item in ax.get_xticklabels()]\n",
    "labels[1] = \"Baseline 2022\"\n",
    "labels[6] = \"Follow-Up 2022\"\n",
    "\n",
    "ax.set_xticklabels(labels)"
   ]
  },
  {
   "cell_type": "markdown",
   "metadata": {},
   "source": [
    "### FFMQ Nonreactivity"
   ]
  },
  {
   "cell_type": "code",
   "execution_count": 57,
   "metadata": {},
   "outputs": [],
   "source": [
    "ffmq_nonreactivity = pd.melt(\n",
    "    total, id_vars=\"timepoint\", value_vars=\"FFMQ Total Nonreactivity\"\n",
    ")"
   ]
  },
  {
   "cell_type": "code",
   "execution_count": 58,
   "metadata": {},
   "outputs": [],
   "source": [
    "ffmq_nonreactivity_grouped = (\n",
    "    ffmq_nonreactivity.groupby(\"timepoint\", sort=False).mean().reset_index()\n",
    ")"
   ]
  },
  {
   "cell_type": "code",
   "execution_count": 59,
   "metadata": {},
   "outputs": [
    {
     "data": {
      "text/html": [
       "<div>\n",
       "<style scoped>\n",
       "    .dataframe tbody tr th:only-of-type {\n",
       "        vertical-align: middle;\n",
       "    }\n",
       "\n",
       "    .dataframe tbody tr th {\n",
       "        vertical-align: top;\n",
       "    }\n",
       "\n",
       "    .dataframe thead th {\n",
       "        text-align: right;\n",
       "    }\n",
       "</style>\n",
       "<table border=\"1\" class=\"dataframe\">\n",
       "  <thead>\n",
       "    <tr style=\"text-align: right;\">\n",
       "      <th></th>\n",
       "      <th>timepoint</th>\n",
       "      <th>value</th>\n",
       "    </tr>\n",
       "  </thead>\n",
       "  <tbody>\n",
       "    <tr>\n",
       "      <th>0</th>\n",
       "      <td>1</td>\n",
       "      <td>20.333333</td>\n",
       "    </tr>\n",
       "    <tr>\n",
       "      <th>1</th>\n",
       "      <td>2</td>\n",
       "      <td>23.666667</td>\n",
       "    </tr>\n",
       "  </tbody>\n",
       "</table>\n",
       "</div>"
      ],
      "text/plain": [
       "   timepoint      value\n",
       "0          1  20.333333\n",
       "1          2  23.666667"
      ]
     },
     "execution_count": 59,
     "metadata": {},
     "output_type": "execute_result"
    }
   ],
   "source": [
    "ffmq_nonreactivity_grouped"
   ]
  },
  {
   "cell_type": "code",
   "execution_count": 60,
   "metadata": {},
   "outputs": [
    {
     "name": "stderr",
     "output_type": "stream",
     "text": [
      "/var/folders/z9/gdw88pxx7pnfg5bk987tzgqh0000gn/T/ipykernel_79594/1062546616.py:24: UserWarning: FixedFormatter should only be used together with FixedLocator\n",
      "  ax.set_xticklabels(labels)\n"
     ]
    },
    {
     "data": {
      "text/plain": [
       "[Text(0.8, 0, ''),\n",
       " Text(1.0, 0, 'Baseline 2022'),\n",
       " Text(1.2000000000000002, 0, ''),\n",
       " Text(1.4000000000000001, 0, ''),\n",
       " Text(1.6, 0, ''),\n",
       " Text(1.8, 0, ''),\n",
       " Text(2.0, 0, 'Follow-Up 2022'),\n",
       " Text(2.2, 0, '')]"
      ]
     },
     "execution_count": 60,
     "metadata": {},
     "output_type": "execute_result"
    },
    {
     "data": {
      "image/png": "[encoded data removed]",
      "text/plain": [
       "<Figure size 1000x500 with 1 Axes>"
      ]
     },
     "metadata": {},
     "output_type": "display_data"
    }
   ],
   "source": [
    "fig, ax = plt.subplots(figsize=(10, 5), dpi=100)\n",
    "\n",
    "sns.lineplot(\n",
    "    data=ffmq_nonreactivity_grouped,\n",
    "    x=\"timepoint\",\n",
    "    y=\"value\",\n",
    "    ci=None,\n",
    "    color=\"mediumblue\",\n",
    ")\n",
    "ax.set(xlabel=\"Time\", ylabel=\"Mean FFMQ Nonreactivity Score\")\n",
    "ax.set(title=\"FFMQ Changes Over the School Term (Nonreactivity of Inner Experience)\")\n",
    "\n",
    "\n",
    "for x, y in zip(\n",
    "    ffmq_nonreactivity_grouped[\"timepoint\"], ffmq_nonreactivity_grouped[\"value\"]\n",
    "):\n",
    "    plt.text(\n",
    "        x=x, y=y - 0.1, s=\"{:.1f}\".format(y), color=\"black\", weight=\"semibold\"\n",
    "    )  # .set_backgroundcolor('lightblue')\n",
    "\n",
    "plt.text(\n",
    "    1,\n",
    "    22,\n",
    "    \"P = %3.4f\" % ffmq_nonreactivity_stat.pvalue,\n",
    "    horizontalalignment=\"left\",\n",
    "    size=\"medium\",\n",
    "    color=\"darkred\",\n",
    "    weight=\"semibold\",\n",
    ")\n",
    "plt.text(\n",
    "    1,\n",
    "    21.6,\n",
    "    \"N = %3.0f\" % len(pre.index),\n",
    "    horizontalalignment=\"left\",\n",
    "    size=\"medium\",\n",
    "    color=\"darkred\",\n",
    "    weight=\"semibold\",\n",
    ")\n",
    "\n",
    "labels = [item.get_text() for item in ax.get_xticklabels()]\n",
    "labels[1] = \"Baseline 2022\"\n",
    "labels[6] = \"Follow-Up 2022\"\n",
    "\n",
    "ax.set_xticklabels(labels)"
   ]
  },
  {
   "cell_type": "code",
   "execution_count": null,
   "metadata": {},
   "outputs": [],
   "source": []
  }
 ],
 "metadata": {
  "kernelspec": {
   "display_name": "Python 3.9.15 64-bit",
   "language": "python",
   "name": "python3"
  },
  "language_info": {
   "codemirror_mode": {
    "name": "ipython",
    "version": 3
   },
   "file_extension": ".py",
   "mimetype": "text/x-python",
   "name": "python",
   "nbconvert_exporter": "python",
   "pygments_lexer": "ipython3",
   "version": "3.9.15"
  },
  "orig_nbformat": 4,
  "vscode": {
   "interpreter": {
    "hash": "a665b5d41d17b532ea9890333293a1b812fa0b73c9c25c950b3cedf1bebd0438"
   }
  }
 },
 "nbformat": 4,
 "nbformat_minor": 2
}
