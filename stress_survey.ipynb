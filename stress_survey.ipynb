{
 "cells": [
  {
   "cell_type": "markdown",
   "metadata": {},
   "source": [
    "# PHP 1880 Stress Survey"
   ]
  },
  {
   "cell_type": "code",
   "execution_count": 1,
   "metadata": {},
   "outputs": [],
   "source": [
    "import pandas as pd\n",
    "import numpy as np\n",
    "from scipy import stats\n",
    "from scipy.stats import ttest_ind\n",
    "import seaborn as sns\n",
    "import matplotlib.pyplot as plt"
   ]
  },
  {
   "cell_type": "markdown",
   "metadata": {},
   "source": [
    "### Clean and Reverse Code"
   ]
  },
  {
   "cell_type": "code",
   "execution_count": 2,
   "metadata": {},
   "outputs": [],
   "source": [
    "survey = pd.read_csv('survey.csv',  header=[1])"
   ]
  },
  {
   "cell_type": "code",
   "execution_count": 3,
   "metadata": {},
   "outputs": [],
   "source": [
    "survey.drop('end.comments', axis=1, inplace=True)"
   ]
  },
  {
   "cell_type": "code",
   "execution_count": 4,
   "metadata": {},
   "outputs": [],
   "source": [
    "survey.dropna(inplace=True)"
   ]
  },
  {
   "cell_type": "code",
   "execution_count": 5,
   "metadata": {},
   "outputs": [],
   "source": [
    "# PSS Reverse Score Items 4, 5, 6, 7, 9, 10, 13\n",
    "\n",
    "pss_reverse = ['PS1_4', 'PS1_5', 'PS1_6', 'PS1_7', 'PS1_9', 'PS1_10', 'PS1_13']\n",
    "\n",
    "survey[pss_reverse] = survey[pss_reverse].replace({0:4, 1:3, 2:2, 3:1, 4:0})"
   ]
  },
  {
   "cell_type": "code",
   "execution_count": 6,
   "metadata": {},
   "outputs": [],
   "source": [
    "# FFMQ Reverse Score Items 3, 5, 8, 10, 12, 13, 14, 16, 17, 18, 22, 23, 25, 28, 30, 34, 35, 38, 39\n",
    "\n",
    "ffmq_reverse = ['FF1_3', 'FF1_5', 'FF1_8', 'FF1_10', 'FF1_12', 'FF1_13', 'FF1_14','FF1_16', 'FF1_17', 'FF1_18', \n",
    "                'FF1_22', 'FF1_23','FF1_25', 'FF1_28', 'FF1_30', 'FF1_34', 'FF1_35','FF1_38', 'FF1_39']\n",
    "\n",
    "\n",
    "survey[ffmq_reverse] = survey[ffmq_reverse].replace({1:5, 2:4, 3:3, 4:2, 5:1})"
   ]
  },
  {
   "cell_type": "code",
   "execution_count": 7,
   "metadata": {},
   "outputs": [],
   "source": [
    "pss_filter = [col for col in survey if col.startswith('PS1')]\n",
    "ffmq_filter = [col for col in survey if col.startswith('FF1')]"
   ]
  },
  {
   "cell_type": "markdown",
   "metadata": {},
   "source": [
    "### Split Pre/Post Survey and Run Analysis"
   ]
  },
  {
   "cell_type": "code",
   "execution_count": 8,
   "metadata": {},
   "outputs": [],
   "source": [
    "pre = survey.loc[survey.timepoint == 'pre']\n",
    "post = survey.loc[survey.timepoint == 'post']"
   ]
  },
  {
   "cell_type": "code",
   "execution_count": 9,
   "metadata": {},
   "outputs": [],
   "source": [
    "pre = pre.loc[pre.email.isin(post.email)]\n",
    "post = post.loc[post.email.isin(pre.email)]"
   ]
  },
  {
   "cell_type": "code",
   "execution_count": 10,
   "metadata": {},
   "outputs": [],
   "source": [
    "pre['PSS Total'] = pre[pss_filter].sum(axis=1)\n",
    "\n",
    "post['PSS Total'] = post[pss_filter].sum(axis=1"
   ]
  },
  {
   "cell_type": "code",
   "execution_count": 11,
   "metadata": {},
   "outputs": [],
   "source": [
    "pre['FFMQ Total'] = pre[ffmq_filter].sum(axis=1)\n",
    "\n",
    "post['FFMQ Total'] = post[ffmq_filter].sum(axis=1)"
   ]
  },
  {
   "cell_type": "code",
   "execution_count": 12,
   "metadata": {},
   "outputs": [],
   "source": [
    "ffmq_observing = {'FF1_1', 'FF1_6', 'FF1_11', 'FF1_15', 'FF1_20', 'FF1_26', 'FF1_31', 'FF1_36'}\n",
    "\n",
    "ffmq_describing = {'FF1_2', 'FF1_7', 'FF1_12', 'FF1_16', 'FF1_22', 'FF1_27', 'FF1_32', 'FF1_37'}\n",
    "\n",
    "ffmq_acting = {'FF1_5', 'FF1_8', 'FF1_13', 'FF1_18', 'FF1_23', 'FF1_28', 'FF1_34', 'FF1_38'}\n",
    "\n",
    "ffmq_nonjudging = {'FF1_3', 'FF1_10', 'FF1_14', 'FF1_17', 'FF1_25', 'FF1_30', 'FF1_35', 'FF1_39'}\n",
    "\n",
    "ffmq_nonreactivity = {'FF1_4', 'FF1_9', 'FF1_19', 'FF1_21', 'FF1_24', 'FF1_29', 'FF1_33'}\n",
    "\n",
    "pre['FFMQ Total Observing'] = pre[ffmq_observing].sum(axis=1)\n",
    "pre['FFMQ Total Describing'] = pre[ffmq_describing].sum(axis=1)\n",
    "pre['FFMQ Total Acting'] = pre[ffmq_acting].sum(axis=1)\n",
    "pre['FFMQ Total Nonjudging'] = pre[ffmq_nonjudging].sum(axis=1)\n",
    "pre['FFMQ Total Nonreactivity'] = pre[ffmq_nonreactivity].sum(axis=1)\n",
    "\n",
    "post['FFMQ Total Observing'] = post[ffmq_observing].sum(axis=1)\n",
    "post['FFMQ Total Describing'] = post[ffmq_describing].sum(axis=1)\n",
    "post['FFMQ Total Acting'] = post[ffmq_acting].sum(axis=1)\n",
    "post['FFMQ Total Nonjudging'] = post[ffmq_nonjudging].sum(axis=1)\n",
    "post['FFMQ Total Nonreactivity'] = post[ffmq_nonreactivity].sum(axis=1)"
   ]
  },
  {
   "cell_type": "code",
   "execution_count": 13,
   "metadata": {},
   "outputs": [
    {
     "data": {
      "text/plain": [
       "Ttest_indResult(statistic=2.765054586345926, pvalue=0.008419148155208247)"
      ]
     },
     "execution_count": 13,
     "metadata": {},
     "output_type": "execute_result"
    }
   ],
   "source": [
    "#PSS T Test\n",
    "\n",
    "ttest_ind(pre['PSS Total'], post['PSS Total'])"
   ]
  },
  {
   "cell_type": "code",
   "execution_count": 14,
   "metadata": {},
   "outputs": [
    {
     "data": {
      "text/plain": [
       "Ttest_indResult(statistic=-4.200598832834693, pvalue=0.0001356269355117862)"
      ]
     },
     "execution_count": 14,
     "metadata": {},
     "output_type": "execute_result"
    }
   ],
   "source": [
    "#FFMQ T Test\n",
    "\n",
    "ttest_ind(pre['FFMQ Total'], post['FFMQ Total'])"
   ]
  },
  {
   "cell_type": "code",
   "execution_count": 15,
   "metadata": {},
   "outputs": [
    {
     "data": {
      "text/plain": [
       "Ttest_indResult(statistic=-2.6251858717908165, pvalue=0.012027825848477)"
      ]
     },
     "execution_count": 15,
     "metadata": {},
     "output_type": "execute_result"
    }
   ],
   "source": [
    "#FFMQ T Test Observing\n",
    "\n",
    "ttest_ind(pre['FFMQ Total Observing'], post['FFMQ Total Observing'])"
   ]
  },
  {
   "cell_type": "code",
   "execution_count": 16,
   "metadata": {},
   "outputs": [
    {
     "data": {
      "text/plain": [
       "Ttest_indResult(statistic=-0.7849472160468476, pvalue=0.4368899569925091)"
      ]
     },
     "execution_count": 16,
     "metadata": {},
     "output_type": "execute_result"
    }
   ],
   "source": [
    "#FFMQ T Test Describing\n",
    "\n",
    "ttest_ind(pre['FFMQ Total Describing'], post['FFMQ Total Describing'])"
   ]
  },
  {
   "cell_type": "code",
   "execution_count": 17,
   "metadata": {},
   "outputs": [
    {
     "data": {
      "text/plain": [
       "Ttest_indResult(statistic=-2.8111776891544924, pvalue=0.007468858836413346)"
      ]
     },
     "execution_count": 17,
     "metadata": {},
     "output_type": "execute_result"
    }
   ],
   "source": [
    "#FFMQ T Test Acting\n",
    "\n",
    "ttest_ind(pre['FFMQ Total Acting'], post['FFMQ Total Acting'])"
   ]
  },
  {
   "cell_type": "code",
   "execution_count": 18,
   "metadata": {},
   "outputs": [
    {
     "data": {
      "text/plain": [
       "Ttest_indResult(statistic=-3.379800069563163, pvalue=0.0015765792980896487)"
      ]
     },
     "execution_count": 18,
     "metadata": {},
     "output_type": "execute_result"
    }
   ],
   "source": [
    "#FFMQ T Test Nonjudging\n",
    "\n",
    "ttest_ind(pre['FFMQ Total Nonjudging'], post['FFMQ Total Nonjudging'])"
   ]
  },
  {
   "cell_type": "code",
   "execution_count": 19,
   "metadata": {},
   "outputs": [
    {
     "data": {
      "text/plain": [
       "Ttest_indResult(statistic=-4.179351759791881, pvalue=0.00014486762726801313)"
      ]
     },
     "execution_count": 19,
     "metadata": {},
     "output_type": "execute_result"
    }
   ],
   "source": [
    "#FFMQ T Test Nonreactivity\n",
    "\n",
    "ttest_ind(pre['FFMQ Total Nonreactivity'], post['FFMQ Total Nonreactivity'])"
   ]
  },
  {
   "cell_type": "code",
   "execution_count": 20,
   "metadata": {},
   "outputs": [],
   "source": [
    "pre.NPS_1 = pre.NPS_1.round()\n",
    "post.NPS_1 = post.NPS_1.round()"
   ]
  },
  {
   "cell_type": "code",
   "execution_count": 21,
   "metadata": {},
   "outputs": [],
   "source": [
    "nsp_dict = {\n",
    "    range(9,11) : 'Promoters',\n",
    "    range(0,7) : 'Detractors'\n",
    "}"
   ]
  },
  {
   "cell_type": "code",
   "execution_count": 22,
   "metadata": {},
   "outputs": [],
   "source": [
    "nps_pre_defined = pre.replace({'NPS_1': nsp_dict})\n",
    "nps_post_defined = post.replace({'NPS_1': nsp_dict})"
   ]
  },
  {
   "cell_type": "code",
   "execution_count": 23,
   "metadata": {},
   "outputs": [
    {
     "data": {
      "text/plain": [
       "-4.545454545454543"
      ]
     },
     "execution_count": 23,
     "metadata": {},
     "output_type": "execute_result"
    }
   ],
   "source": [
    "#NPS Pre Test\n",
    "\n",
    "((nps_pre_defined.NPS_1.str.count('Promoter').sum()/nps_post_defined.NPS_1.count())*100) - ((nps_pre_defined.NPS_1.str.count('Detractor').sum()/nps_post_defined.NPS_1.count())*100)"
   ]
  },
  {
   "cell_type": "code",
   "execution_count": 24,
   "metadata": {},
   "outputs": [
    {
     "data": {
      "text/plain": [
       "45.45454545454546"
      ]
     },
     "execution_count": 24,
     "metadata": {},
     "output_type": "execute_result"
    }
   ],
   "source": [
    "#NPS Post Test\n",
    "\n",
    "((nps_post_defined.NPS_1.str.count('Promoter').sum()/nps_post_defined.NPS_1.count())*100) - ((nps_post_defined.NPS_1.str.count('Detractor').sum()/nps_post_defined.NPS_1.count())*100)"
   ]
  },
  {
   "cell_type": "code",
   "execution_count": 25,
   "metadata": {},
   "outputs": [
    {
     "data": {
      "text/plain": [
       "8.0           9\n",
       "Detractors    6\n",
       "Promoters     5\n",
       "7.0           2\n",
       "Name: NPS_1, dtype: int64"
      ]
     },
     "execution_count": 25,
     "metadata": {},
     "output_type": "execute_result"
    }
   ],
   "source": [
    "#NPS Pre Values\n",
    "\n",
    "nps_pre_defined['NPS_1'].value_counts()"
   ]
  },
  {
   "cell_type": "code",
   "execution_count": 26,
   "metadata": {},
   "outputs": [
    {
     "data": {
      "text/plain": [
       "Promoters     13\n",
       "8.0            5\n",
       "Detractors     3\n",
       "7.0            1\n",
       "Name: NPS_1, dtype: int64"
      ]
     },
     "execution_count": 26,
     "metadata": {},
     "output_type": "execute_result"
    }
   ],
   "source": [
    "#NPS Post Values\n",
    "\n",
    "nps_post_defined['NPS_1'].value_counts()"
   ]
  },
  {
   "cell_type": "code",
   "execution_count": 27,
   "metadata": {},
   "outputs": [
    {
     "ename": "NameError",
     "evalue": "name 'melt_pss' is not defined",
     "output_type": "error",
     "traceback": [
      "\u001b[0;31m---------------------------------------------------------------------------\u001b[0m",
      "\u001b[0;31mNameError\u001b[0m                                 Traceback (most recent call last)",
      "\u001b[0;32m/var/folders/z9/gdw88pxx7pnfg5bk987tzgqh0000gn/T/ipykernel_11479/3479201171.py\u001b[0m in \u001b[0;36m<module>\u001b[0;34m\u001b[0m\n\u001b[1;32m      2\u001b[0m \u001b[0;34m\u001b[0m\u001b[0m\n\u001b[1;32m      3\u001b[0m sns.lineplot(\n\u001b[0;32m----> 4\u001b[0;31m     \u001b[0mdata\u001b[0m\u001b[0;34m=\u001b[0m\u001b[0mmelt_pss\u001b[0m\u001b[0;34m,\u001b[0m\u001b[0;34m\u001b[0m\u001b[0;34m\u001b[0m\u001b[0m\n\u001b[0m\u001b[1;32m      5\u001b[0m     \u001b[0mx\u001b[0m\u001b[0;34m=\u001b[0m\u001b[0;34m\"variable\"\u001b[0m\u001b[0;34m,\u001b[0m\u001b[0;34m\u001b[0m\u001b[0;34m\u001b[0m\u001b[0m\n\u001b[1;32m      6\u001b[0m     \u001b[0my\u001b[0m\u001b[0;34m=\u001b[0m\u001b[0;34m\"value\"\u001b[0m\u001b[0;34m,\u001b[0m\u001b[0;34m\u001b[0m\u001b[0;34m\u001b[0m\u001b[0m\n",
      "\u001b[0;31mNameError\u001b[0m: name 'melt_pss' is not defined"
     ]
    },
    {
     "data": {
      "image/png": "[encoded data removed]",
      "text/plain": [
       "<Figure size 1000x500 with 1 Axes>"
      ]
     },
     "metadata": {
      "needs_background": "light"
     },
     "output_type": "display_data"
    }
   ],
   "source": [
    "fig, ax = plt.subplots(figsize=(10, 5), dpi=100)\n",
    "\n",
    "sns.lineplot(\n",
    "    data=melt_pss,\n",
    "    x=\"variable\",\n",
    "    y=\"value\",\n",
    "    color='darkblue',\n",
    "    ci=None,\n",
    "    hue='Timepoint')\n",
    "ax.set(xlabel = \"Question\", ylabel = \"Score\")\n",
    "ax.set(title= \"PSS Pre-Post Survey\")\n",
    "plt.xticks(rotation=90)"
   ]
  },
  {
   "cell_type": "code",
   "execution_count": null,
   "metadata": {},
   "outputs": [],
   "source": [
    "fig, ax = plt.subplots(figsize=(10, 5), dpi=100)\n",
    "\n",
    "sns.lineplot(\n",
    "    data=melt_ffmq,\n",
    "    x=\"variable\",\n",
    "    y=\"value\",\n",
    "    color='darkblue',\n",
    "    #err_style='bars',\n",
    "    ci=None,\n",
    "    hue='Timepoint')\n",
    "ax.set(xlabel = \"Question\", ylabel = \"Score\")\n",
    "ax.set(title= \"FFMQ Pre-Post Survey\")\n",
    "plt.xticks(rotation=90)"
   ]
  },
  {
   "cell_type": "code",
   "execution_count": null,
   "metadata": {},
   "outputs": [],
   "source": []
  },
  {
   "cell_type": "code",
   "execution_count": null,
   "metadata": {},
   "outputs": [],
   "source": []
  },
  {
   "cell_type": "code",
   "execution_count": null,
   "metadata": {},
   "outputs": [],
   "source": [
    "survey_raw.NPS_1"
   ]
  },
  {
   "cell_type": "code",
   "execution_count": null,
   "metadata": {},
   "outputs": [],
   "source": []
  },
  {
   "cell_type": "code",
   "execution_count": null,
   "metadata": {},
   "outputs": [],
   "source": [
    "pre.NPS_1['Promoters'].count() / pre.Finished.count()"
   ]
  },
  {
   "cell_type": "code",
   "execution_count": null,
   "metadata": {},
   "outputs": [],
   "source": [
    "test=[]\n",
    "\n",
    "for x in pss_filter + ffmq_filter:\n",
    "    test.append(stats.ttest_ind(pre[x], post[x], equal_var=False))\n",
    "\n",
    "test"
   ]
  },
  {
   "cell_type": "code",
   "execution_count": null,
   "metadata": {},
   "outputs": [],
   "source": [
    "melt_pss = survey.melt(id_vars = 'timepoint', value_vars = pss_filter)\n",
    "melt_ffmq = survey.melt(id_vars = 'timepoint', value_vars = ffmq_filter)\n"
   ]
  }
 ],
 "metadata": {
  "interpreter": {
   "hash": "31f2aee4e71d21fbe5cf8b01ff0e069b9275f58929596ceb00d14d90e3e16cd6"
  },
  "kernelspec": {
   "display_name": "Python 3.8.9 64-bit",
   "language": "python",
   "name": "python3"
  },
  "language_info": {
   "codemirror_mode": {
    "name": "ipython",
    "version": 3
   },
   "file_extension": ".py",
   "mimetype": "text/x-python",
   "name": "python",
   "nbconvert_exporter": "python",
   "pygments_lexer": "ipython3",
   "version": "3.9.7"
  },
  "orig_nbformat": 4
 },
 "nbformat": 4,
 "nbformat_minor": 2
}
