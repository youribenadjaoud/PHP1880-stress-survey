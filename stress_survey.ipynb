{
 "cells": [
  {
   "cell_type": "markdown",
   "metadata": {},
   "source": [
    "# PHP 1880 Stress Survey"
   ]
  },
  {
   "cell_type": "code",
   "execution_count": 18,
   "metadata": {},
   "outputs": [],
   "source": [
    "import pandas as pd\n",
    "import numpy as np\n",
    "from scipy import stats\n",
    "import seaborn as sns\n",
    "import matplotlib.pyplot as plt"
   ]
  },
  {
   "cell_type": "markdown",
   "metadata": {},
   "source": [
    "### Clean and Reverse Code"
   ]
  },
  {
   "cell_type": "code",
   "execution_count": 19,
   "metadata": {},
   "outputs": [],
   "source": [
    "survey = pd.read_csv('survey.csv',  header=[1])"
   ]
  },
  {
   "cell_type": "code",
   "execution_count": 20,
   "metadata": {},
   "outputs": [],
   "source": [
    "survey.drop('end.comments', axis=1, inplace=True)"
   ]
  },
  {
   "cell_type": "code",
   "execution_count": 21,
   "metadata": {},
   "outputs": [],
   "source": [
    "survey.dropna(inplace=True)"
   ]
  },
  {
   "cell_type": "code",
   "execution_count": 22,
   "metadata": {},
   "outputs": [],
   "source": [
    "# PSS Reverse Score Items 4, 5, 6, 7, 9, 10, 13\n",
    "\n",
    "pss_reverse = ['PS1_4', 'PS1_5', 'PS1_6', 'PS1_7', 'PS1_9', 'PS1_10', 'PS1_13']\n",
    "\n",
    "survey[pss_reverse] = survey[pss_reverse].replace({0:4, 1:3, 2:2, 3:1, 4:0})"
   ]
  },
  {
   "cell_type": "code",
   "execution_count": 23,
   "metadata": {},
   "outputs": [],
   "source": [
    "# FFMQ Reverse Score Items 3, 5, 8, 10, 12, 13, 14, 16, 17, 18, 22, 23, 25, 28, 30, 34, 35, 38, 39\n",
    "\n",
    "ffmq_reverse = ['FF1_3', 'FF1_5', 'FF1_8', 'FF1_10', 'FF1_12', 'FF1_13', 'FF1_14','FF1_16', 'FF1_17', 'FF1_18', \n",
    "                'FF1_22', 'FF1_23','FF1_25', 'FF1_28', 'FF1_30', 'FF1_34', 'FF1_35','FF1_38', 'FF1_39']\n",
    "\n",
    "\n",
    "survey[ffmq_reverse] = survey[ffmq_reverse].replace({1:5, 2:4, 3:3, 4:2, 5:1})"
   ]
  },
  {
   "cell_type": "code",
   "execution_count": 24,
   "metadata": {},
   "outputs": [],
   "source": [
    "pss_filter = [col for col in survey if col.startswith('PS1')]\n",
    "ffmq_filter = [col for col in survey if col.startswith('FF1')]"
   ]
  },
  {
   "cell_type": "markdown",
   "metadata": {},
   "source": [
    "### Split Pre/Post Survey and Run Analysis"
   ]
  },
  {
   "cell_type": "code",
   "execution_count": 25,
   "metadata": {},
   "outputs": [],
   "source": [
    "pre = survey.loc[survey.timepoint == 'pre']\n",
    "post = survey.loc[survey.timepoint == 'post']"
   ]
  },
  {
   "cell_type": "code",
   "execution_count": 26,
   "metadata": {},
   "outputs": [],
   "source": [
    "pre = pre.loc[pre.email.isin(post.email)]\n",
    "post = post.loc[post.email.isin(pre.email)]"
   ]
  },
  {
   "cell_type": "code",
   "execution_count": 27,
   "metadata": {},
   "outputs": [],
   "source": [
    "pre['PSS Total'] = pre[pss_filter].sum(axis=1)\n",
    "\n",
    "post['PSS Total'] = post[pss_filter].sum(axis=1)"
   ]
  },
  {
   "cell_type": "code",
   "execution_count": 28,
   "metadata": {},
   "outputs": [],
   "source": [
    "pre['FFMQ Total'] = pre[ffmq_filter].sum(axis=1)\n",
    "\n",
    "post['FFMQ Total'] = post[ffmq_filter].sum(axis=1)"
   ]
  },
  {
   "cell_type": "code",
   "execution_count": 29,
   "metadata": {},
   "outputs": [],
   "source": [
    "ffmq_observing = {'FF1_1', 'FF1_6', 'FF1_11', 'FF1_15', 'FF1_20', 'FF1_26', 'FF1_31', 'FF1_36'}\n",
    "\n",
    "ffmq_describing = {'FF1_2', 'FF1_7', 'FF1_12', 'FF1_16', 'FF1_22', 'FF1_27', 'FF1_32', 'FF1_37'}\n",
    "\n",
    "ffmq_acting = {'FF1_5', 'FF1_8', 'FF1_13', 'FF1_18', 'FF1_23', 'FF1_28', 'FF1_34', 'FF1_38'}\n",
    "\n",
    "ffmq_nonjudging = {'FF1_3', 'FF1_10', 'FF1_14', 'FF1_17', 'FF1_25', 'FF1_30', 'FF1_35', 'FF1_39'}\n",
    "\n",
    "ffmq_nonreactivity = {'FF1_4', 'FF1_9', 'FF1_19', 'FF1_21', 'FF1_24', 'FF1_29', 'FF1_33'}\n",
    "\n",
    "pre['FFMQ Total Observing'] = pre[ffmq_observing].sum(axis=1)\n",
    "pre['FFMQ Total Describing'] = pre[ffmq_describing].sum(axis=1)\n",
    "pre['FFMQ Total Acting'] = pre[ffmq_acting].sum(axis=1)\n",
    "pre['FFMQ Total Nonjudging'] = pre[ffmq_nonjudging].sum(axis=1)\n",
    "pre['FFMQ Total Nonreactivity'] = pre[ffmq_nonreactivity].sum(axis=1)\n",
    "\n",
    "post['FFMQ Total Observing'] = post[ffmq_observing].sum(axis=1)\n",
    "post['FFMQ Total Describing'] = post[ffmq_describing].sum(axis=1)\n",
    "post['FFMQ Total Acting'] = post[ffmq_acting].sum(axis=1)\n",
    "post['FFMQ Total Nonjudging'] = post[ffmq_nonjudging].sum(axis=1)\n",
    "post['FFMQ Total Nonreactivity'] = post[ffmq_nonreactivity].sum(axis=1)"
   ]
  },
  {
   "cell_type": "code",
   "execution_count": 30,
   "metadata": {},
   "outputs": [
    {
     "data": {
      "text/plain": [
       "Ttest_relResult(statistic=2.832513401646404, pvalue=0.009974077194643686)"
      ]
     },
     "execution_count": 30,
     "metadata": {},
     "output_type": "execute_result"
    }
   ],
   "source": [
    "#PSS T Test\n",
    "\n",
    "stats.ttest_rel(pre['PSS Total'], post['PSS Total'])"
   ]
  },
  {
   "cell_type": "code",
   "execution_count": 31,
   "metadata": {},
   "outputs": [
    {
     "data": {
      "text/plain": [
       "Ttest_relResult(statistic=-4.026430005773696, pvalue=0.0006099521139241871)"
      ]
     },
     "execution_count": 31,
     "metadata": {},
     "output_type": "execute_result"
    }
   ],
   "source": [
    "#FFMQ T Test\n",
    "\n",
    "stats.ttest_rel(pre['FFMQ Total'], post['FFMQ Total'])"
   ]
  },
  {
   "cell_type": "code",
   "execution_count": 32,
   "metadata": {},
   "outputs": [
    {
     "data": {
      "text/plain": [
       "Ttest_relResult(statistic=-2.704714417157594, pvalue=0.013270406420299639)"
      ]
     },
     "execution_count": 32,
     "metadata": {},
     "output_type": "execute_result"
    }
   ],
   "source": [
    "#FFMQ T Test Observing\n",
    "\n",
    "stats.ttest_rel(pre['FFMQ Total Observing'], post['FFMQ Total Observing'])"
   ]
  },
  {
   "cell_type": "code",
   "execution_count": 33,
   "metadata": {},
   "outputs": [
    {
     "data": {
      "text/plain": [
       "Ttest_relResult(statistic=-0.6985271528789799, pvalue=0.49251144856484474)"
      ]
     },
     "execution_count": 33,
     "metadata": {},
     "output_type": "execute_result"
    }
   ],
   "source": [
    "#FFMQ T Test Describing\n",
    "\n",
    "stats.ttest_rel(pre['FFMQ Total Describing'], post['FFMQ Total Describing'])"
   ]
  },
  {
   "cell_type": "code",
   "execution_count": 34,
   "metadata": {},
   "outputs": [
    {
     "data": {
      "text/plain": [
       "Ttest_relResult(statistic=-2.7739964106708253, pvalue=0.011372889865165723)"
      ]
     },
     "execution_count": 34,
     "metadata": {},
     "output_type": "execute_result"
    }
   ],
   "source": [
    "#FFMQ T Test Acting\n",
    "\n",
    "stats.ttest_rel(pre['FFMQ Total Acting'], post['FFMQ Total Acting'])"
   ]
  },
  {
   "cell_type": "code",
   "execution_count": 35,
   "metadata": {},
   "outputs": [
    {
     "data": {
      "text/plain": [
       "Ttest_relResult(statistic=-3.2034031615089122, pvalue=0.004269665180433506)"
      ]
     },
     "execution_count": 35,
     "metadata": {},
     "output_type": "execute_result"
    }
   ],
   "source": [
    "#FFMQ T Test Nonjudging\n",
    "\n",
    "stats.ttest_rel(pre['FFMQ Total Nonjudging'], post['FFMQ Total Nonjudging'])"
   ]
  },
  {
   "cell_type": "code",
   "execution_count": 36,
   "metadata": {},
   "outputs": [
    {
     "data": {
      "text/plain": [
       "Ttest_relResult(statistic=-3.8422377200889613, pvalue=0.0009467579585310732)"
      ]
     },
     "execution_count": 36,
     "metadata": {},
     "output_type": "execute_result"
    }
   ],
   "source": [
    "#FFMQ T Test Nonreactivity\n",
    "\n",
    "stats.ttest_rel(pre['FFMQ Total Nonreactivity'], post['FFMQ Total Nonreactivity'])"
   ]
  },
  {
   "cell_type": "code",
   "execution_count": 37,
   "metadata": {},
   "outputs": [],
   "source": [
    "pre.NPS_1 = pre.NPS_1.round()\n",
    "post.NPS_1 = post.NPS_1.round()"
   ]
  },
  {
   "cell_type": "code",
   "execution_count": 38,
   "metadata": {},
   "outputs": [],
   "source": [
    "nsp_dict = {\n",
    "    range(9,11) : 'Promoters',\n",
    "    range(0,7) : 'Detractors'\n",
    "}"
   ]
  },
  {
   "cell_type": "code",
   "execution_count": 39,
   "metadata": {},
   "outputs": [],
   "source": [
    "nps_pre_defined = pre.replace({'NPS_1': nsp_dict})\n",
    "nps_post_defined = post.replace({'NPS_1': nsp_dict})"
   ]
  },
  {
   "cell_type": "code",
   "execution_count": 40,
   "metadata": {},
   "outputs": [
    {
     "data": {
      "text/plain": [
       "-4.545454545454543"
      ]
     },
     "execution_count": 40,
     "metadata": {},
     "output_type": "execute_result"
    }
   ],
   "source": [
    "#NPS Pre Test\n",
    "\n",
    "((nps_pre_defined.NPS_1.str.count('Promoter').sum()/nps_post_defined.NPS_1.count())*100) - ((nps_pre_defined.NPS_1.str.count('Detractor').sum()/nps_post_defined.NPS_1.count())*100)"
   ]
  },
  {
   "cell_type": "code",
   "execution_count": 41,
   "metadata": {},
   "outputs": [
    {
     "data": {
      "text/plain": [
       "45.45454545454546"
      ]
     },
     "execution_count": 41,
     "metadata": {},
     "output_type": "execute_result"
    }
   ],
   "source": [
    "#NPS Post Test\n",
    "\n",
    "((nps_post_defined.NPS_1.str.count('Promoter').sum()/nps_post_defined.NPS_1.count())*100) - ((nps_post_defined.NPS_1.str.count('Detractor').sum()/nps_post_defined.NPS_1.count())*100)"
   ]
  },
  {
   "cell_type": "code",
   "execution_count": 42,
   "metadata": {},
   "outputs": [
    {
     "data": {
      "text/plain": [
       "8.0           9\n",
       "Detractors    6\n",
       "Promoters     5\n",
       "7.0           2\n",
       "Name: NPS_1, dtype: int64"
      ]
     },
     "execution_count": 42,
     "metadata": {},
     "output_type": "execute_result"
    }
   ],
   "source": [
    "#NPS Pre Values\n",
    "\n",
    "nps_pre_defined['NPS_1'].value_counts()"
   ]
  },
  {
   "cell_type": "code",
   "execution_count": 43,
   "metadata": {},
   "outputs": [
    {
     "data": {
      "text/plain": [
       "Promoters     13\n",
       "8.0            5\n",
       "Detractors     3\n",
       "7.0            1\n",
       "Name: NPS_1, dtype: int64"
      ]
     },
     "execution_count": 43,
     "metadata": {},
     "output_type": "execute_result"
    }
   ],
   "source": [
    "#NPS Post Values\n",
    "\n",
    "nps_post_defined['NPS_1'].value_counts()"
   ]
  }
 ],
 "metadata": {
  "interpreter": {
   "hash": "31f2aee4e71d21fbe5cf8b01ff0e069b9275f58929596ceb00d14d90e3e16cd6"
  },
  "kernelspec": {
   "display_name": "Python 3.8.9 64-bit",
   "language": "python",
   "name": "python3"
  },
  "language_info": {
   "codemirror_mode": {
    "name": "ipython",
    "version": 3
   },
   "file_extension": ".py",
   "mimetype": "text/x-python",
   "name": "python",
   "nbconvert_exporter": "python",
   "pygments_lexer": "ipython3",
   "version": "3.9.7"
  },
  "orig_nbformat": 4
 },
 "nbformat": 4,
 "nbformat_minor": 2
}
