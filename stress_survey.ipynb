{
 "cells": [
  {
   "cell_type": "markdown",
   "metadata": {},
   "source": [
    "# PHP 1880 Stress Survey"
   ]
  },
  {
   "cell_type": "code",
   "execution_count": 1,
   "metadata": {},
   "outputs": [],
   "source": [
    "import pandas as pd\n",
    "import numpy as np\n",
    "from scipy import stats\n",
    "import seaborn as sns\n",
    "import matplotlib.pyplot as plt"
   ]
  },
  {
   "cell_type": "markdown",
   "metadata": {},
   "source": [
    "### Clean and Reverse Code"
   ]
  },
  {
   "cell_type": "code",
   "execution_count": 2,
   "metadata": {},
   "outputs": [],
   "source": [
    "survey = pd.read_csv('survey.csv',  header=[1])"
   ]
  },
  {
   "cell_type": "code",
   "execution_count": 3,
   "metadata": {},
   "outputs": [],
   "source": [
    "survey.drop('end.comments', axis=1, inplace=True)"
   ]
  },
  {
   "cell_type": "code",
   "execution_count": 4,
   "metadata": {},
   "outputs": [],
   "source": [
    "survey.dropna(inplace=True)"
   ]
  },
  {
   "cell_type": "code",
   "execution_count": 5,
   "metadata": {},
   "outputs": [],
   "source": [
    "# PSS Reverse Score Items 4, 5, 6, 7, 9, 10, 13\n",
    "\n",
    "pss_reverse = ['PS1_4', 'PS1_5', 'PS1_6', 'PS1_7', 'PS1_9', 'PS1_10', 'PS1_13']\n",
    "\n",
    "survey[pss_reverse] = survey[pss_reverse].replace({0:4, 1:3, 2:2, 3:1, 4:0})"
   ]
  },
  {
   "cell_type": "code",
   "execution_count": 6,
   "metadata": {},
   "outputs": [],
   "source": [
    "# FFMQ Reverse Score Items 3, 5, 8, 10, 12, 13, 14, 16, 17, 18, 22, 23, 25, 28, 30, 34, 35, 38, 39\n",
    "\n",
    "ffmq_reverse = ['FF1_3', 'FF1_5', 'FF1_8', 'FF1_10', 'FF1_12', 'FF1_13', 'FF1_14','FF1_16', 'FF1_17', 'FF1_18', \n",
    "                'FF1_22', 'FF1_23','FF1_25', 'FF1_28', 'FF1_30', 'FF1_34', 'FF1_35','FF1_38', 'FF1_39']\n",
    "\n",
    "\n",
    "survey[ffmq_reverse] = survey[ffmq_reverse].replace({1:5, 2:4, 3:3, 4:2, 5:1})"
   ]
  },
  {
   "cell_type": "code",
   "execution_count": 7,
   "metadata": {},
   "outputs": [],
   "source": [
    "pss_filter = [col for col in survey if col.startswith('PS1')]\n",
    "ffmq_filter = [col for col in survey if col.startswith('FF1')]"
   ]
  },
  {
   "cell_type": "markdown",
   "metadata": {},
   "source": [
    "### Split Pre/Post Survey and Run Analysis"
   ]
  },
  {
   "cell_type": "code",
   "execution_count": 8,
   "metadata": {},
   "outputs": [],
   "source": [
    "pre = survey.loc[survey.timepoint == 'pre']\n",
    "post = survey.loc[survey.timepoint == 'post']"
   ]
  },
  {
   "cell_type": "code",
   "execution_count": 9,
   "metadata": {},
   "outputs": [],
   "source": [
    "pre = pre.loc[pre.email.isin(post.email)]\n",
    "post = post.loc[post.email.isin(pre.email)]"
   ]
  },
  {
   "cell_type": "code",
   "execution_count": 10,
   "metadata": {},
   "outputs": [],
   "source": [
    "pre['PSS Total'] = pre[pss_filter].sum(axis=1)\n",
    "\n",
    "post['PSS Total'] = post[pss_filter].sum(axis=1)"
   ]
  },
  {
   "cell_type": "code",
   "execution_count": 11,
   "metadata": {},
   "outputs": [],
   "source": [
    "pre['FFMQ Total'] = pre[ffmq_filter].sum(axis=1)\n",
    "\n",
    "post['FFMQ Total'] = post[ffmq_filter].sum(axis=1)"
   ]
  },
  {
   "cell_type": "code",
   "execution_count": 12,
   "metadata": {},
   "outputs": [],
   "source": [
    "ffmq_observing = {'FF1_1', 'FF1_6', 'FF1_11', 'FF1_15', 'FF1_20', 'FF1_26', 'FF1_31', 'FF1_36'}\n",
    "\n",
    "ffmq_describing = {'FF1_2', 'FF1_7', 'FF1_12', 'FF1_16', 'FF1_22', 'FF1_27', 'FF1_32', 'FF1_37'}\n",
    "\n",
    "ffmq_acting = {'FF1_5', 'FF1_8', 'FF1_13', 'FF1_18', 'FF1_23', 'FF1_28', 'FF1_34', 'FF1_38'}\n",
    "\n",
    "ffmq_nonjudging = {'FF1_3', 'FF1_10', 'FF1_14', 'FF1_17', 'FF1_25', 'FF1_30', 'FF1_35', 'FF1_39'}\n",
    "\n",
    "ffmq_nonreactivity = {'FF1_4', 'FF1_9', 'FF1_19', 'FF1_21', 'FF1_24', 'FF1_29', 'FF1_33'}\n",
    "\n",
    "pre['FFMQ Total Observing'] = pre[ffmq_observing].sum(axis=1)\n",
    "pre['FFMQ Total Describing'] = pre[ffmq_describing].sum(axis=1)\n",
    "pre['FFMQ Total Acting'] = pre[ffmq_acting].sum(axis=1)\n",
    "pre['FFMQ Total Nonjudging'] = pre[ffmq_nonjudging].sum(axis=1)\n",
    "pre['FFMQ Total Nonreactivity'] = pre[ffmq_nonreactivity].sum(axis=1)\n",
    "\n",
    "post['FFMQ Total Observing'] = post[ffmq_observing].sum(axis=1)\n",
    "post['FFMQ Total Describing'] = post[ffmq_describing].sum(axis=1)\n",
    "post['FFMQ Total Acting'] = post[ffmq_acting].sum(axis=1)\n",
    "post['FFMQ Total Nonjudging'] = post[ffmq_nonjudging].sum(axis=1)\n",
    "post['FFMQ Total Nonreactivity'] = post[ffmq_nonreactivity].sum(axis=1)"
   ]
  },
  {
   "cell_type": "code",
   "execution_count": 13,
   "metadata": {},
   "outputs": [
    {
     "data": {
      "text/plain": [
       "Ttest_relResult(statistic=2.832513401646404, pvalue=0.009974077194643686)"
      ]
     },
     "execution_count": 13,
     "metadata": {},
     "output_type": "execute_result"
    }
   ],
   "source": [
    "#PSS T Test\n",
    "\n",
    "stats.ttest_rel(pre['PSS Total'], post['PSS Total'])"
   ]
  },
  {
   "cell_type": "code",
   "execution_count": 14,
   "metadata": {},
   "outputs": [
    {
     "data": {
      "text/plain": [
       "count    22.000000\n",
       "mean     28.863636\n",
       "std       8.385336\n",
       "min      10.000000\n",
       "25%      24.250000\n",
       "50%      27.500000\n",
       "75%      34.750000\n",
       "max      44.000000\n",
       "Name: PSS Total, dtype: float64"
      ]
     },
     "execution_count": 14,
     "metadata": {},
     "output_type": "execute_result"
    }
   ],
   "source": [
    "#PSS Pre Descriptive\n",
    "\n",
    "pre['PSS Total'].describe()"
   ]
  },
  {
   "cell_type": "code",
   "execution_count": 15,
   "metadata": {},
   "outputs": [
    {
     "data": {
      "text/plain": [
       "count    22.000000\n",
       "mean     23.045455\n",
       "std       5.205101\n",
       "min      14.000000\n",
       "25%      19.250000\n",
       "50%      23.000000\n",
       "75%      25.750000\n",
       "max      34.000000\n",
       "Name: PSS Total, dtype: float64"
      ]
     },
     "execution_count": 15,
     "metadata": {},
     "output_type": "execute_result"
    }
   ],
   "source": [
    "#PSS Post Descriptive\n",
    "\n",
    "post['PSS Total'].describe()"
   ]
  },
  {
   "cell_type": "code",
   "execution_count": 16,
   "metadata": {},
   "outputs": [
    {
     "data": {
      "text/plain": [
       "Ttest_relResult(statistic=-4.026430005773696, pvalue=0.0006099521139241871)"
      ]
     },
     "execution_count": 16,
     "metadata": {},
     "output_type": "execute_result"
    }
   ],
   "source": [
    "#FFMQ T Test\n",
    "\n",
    "stats.ttest_rel(pre['FFMQ Total'], post['FFMQ Total'])"
   ]
  },
  {
   "cell_type": "code",
   "execution_count": 17,
   "metadata": {},
   "outputs": [
    {
     "data": {
      "text/plain": [
       "count     22.000000\n",
       "mean     114.681818\n",
       "std       16.904174\n",
       "min       86.000000\n",
       "25%      101.000000\n",
       "50%      114.500000\n",
       "75%      127.750000\n",
       "max      147.000000\n",
       "Name: FFMQ Total, dtype: float64"
      ]
     },
     "execution_count": 17,
     "metadata": {},
     "output_type": "execute_result"
    }
   ],
   "source": [
    "#FFMQ Pre Descriptive\n",
    "\n",
    "pre['FFMQ Total'].describe()"
   ]
  },
  {
   "cell_type": "code",
   "execution_count": 18,
   "metadata": {},
   "outputs": [
    {
     "data": {
      "text/plain": [
       "count     22.000000\n",
       "mean     134.272727\n",
       "std       13.884496\n",
       "min      109.000000\n",
       "25%      124.500000\n",
       "50%      132.500000\n",
       "75%      141.750000\n",
       "max      160.000000\n",
       "Name: FFMQ Total, dtype: float64"
      ]
     },
     "execution_count": 18,
     "metadata": {},
     "output_type": "execute_result"
    }
   ],
   "source": [
    "#FFMQ Post Descriptive\n",
    "\n",
    "post['FFMQ Total'].describe()"
   ]
  },
  {
   "cell_type": "code",
   "execution_count": 19,
   "metadata": {},
   "outputs": [
    {
     "data": {
      "text/plain": [
       "Ttest_relResult(statistic=-2.704714417157594, pvalue=0.013270406420299639)"
      ]
     },
     "execution_count": 19,
     "metadata": {},
     "output_type": "execute_result"
    }
   ],
   "source": [
    "#FFMQ T Test Observing\n",
    "\n",
    "stats.ttest_rel(pre['FFMQ Total Observing'], post['FFMQ Total Observing'])"
   ]
  },
  {
   "cell_type": "code",
   "execution_count": 20,
   "metadata": {},
   "outputs": [
    {
     "data": {
      "text/plain": [
       "Ttest_relResult(statistic=-0.6985271528789799, pvalue=0.49251144856484474)"
      ]
     },
     "execution_count": 20,
     "metadata": {},
     "output_type": "execute_result"
    }
   ],
   "source": [
    "#FFMQ T Test Describing\n",
    "\n",
    "stats.ttest_rel(pre['FFMQ Total Describing'], post['FFMQ Total Describing'])"
   ]
  },
  {
   "cell_type": "code",
   "execution_count": 21,
   "metadata": {},
   "outputs": [
    {
     "data": {
      "text/plain": [
       "Ttest_relResult(statistic=-2.7739964106708253, pvalue=0.011372889865165723)"
      ]
     },
     "execution_count": 21,
     "metadata": {},
     "output_type": "execute_result"
    }
   ],
   "source": [
    "#FFMQ T Test Acting\n",
    "\n",
    "stats.ttest_rel(pre['FFMQ Total Acting'], post['FFMQ Total Acting'])"
   ]
  },
  {
   "cell_type": "code",
   "execution_count": 22,
   "metadata": {},
   "outputs": [
    {
     "data": {
      "text/plain": [
       "Ttest_relResult(statistic=-3.2034031615089122, pvalue=0.004269665180433506)"
      ]
     },
     "execution_count": 22,
     "metadata": {},
     "output_type": "execute_result"
    }
   ],
   "source": [
    "#FFMQ T Test Nonjudging\n",
    "\n",
    "stats.ttest_rel(pre['FFMQ Total Nonjudging'], post['FFMQ Total Nonjudging'])"
   ]
  },
  {
   "cell_type": "code",
   "execution_count": 23,
   "metadata": {},
   "outputs": [
    {
     "data": {
      "text/plain": [
       "Ttest_relResult(statistic=-3.8422377200889613, pvalue=0.0009467579585310732)"
      ]
     },
     "execution_count": 23,
     "metadata": {},
     "output_type": "execute_result"
    }
   ],
   "source": [
    "#FFMQ T Test Nonreactivity\n",
    "\n",
    "stats.ttest_rel(pre['FFMQ Total Nonreactivity'], post['FFMQ Total Nonreactivity'])"
   ]
  },
  {
   "cell_type": "code",
   "execution_count": 24,
   "metadata": {},
   "outputs": [],
   "source": [
    "pre.NPS_1 = pre.NPS_1.round()\n",
    "post.NPS_1 = post.NPS_1.round()"
   ]
  },
  {
   "cell_type": "code",
   "execution_count": 25,
   "metadata": {},
   "outputs": [],
   "source": [
    "nsp_dict = {\n",
    "    range(9,11) : 'Promoters',\n",
    "    range(0,7) : 'Detractors'\n",
    "}"
   ]
  },
  {
   "cell_type": "code",
   "execution_count": 26,
   "metadata": {},
   "outputs": [],
   "source": [
    "nps_pre_defined = pre.replace({'NPS_1': nsp_dict})\n",
    "nps_post_defined = post.replace({'NPS_1': nsp_dict})"
   ]
  },
  {
   "cell_type": "code",
   "execution_count": 27,
   "metadata": {},
   "outputs": [
    {
     "data": {
      "text/plain": [
       "-4.545454545454543"
      ]
     },
     "execution_count": 27,
     "metadata": {},
     "output_type": "execute_result"
    }
   ],
   "source": [
    "#NPS Pre Test\n",
    "\n",
    "((nps_pre_defined.NPS_1.str.count('Promoter').sum()/nps_post_defined.NPS_1.count())*100) - ((nps_pre_defined.NPS_1.str.count('Detractor').sum()/nps_post_defined.NPS_1.count())*100)"
   ]
  },
  {
   "cell_type": "code",
   "execution_count": 28,
   "metadata": {},
   "outputs": [
    {
     "data": {
      "text/plain": [
       "45.45454545454546"
      ]
     },
     "execution_count": 28,
     "metadata": {},
     "output_type": "execute_result"
    }
   ],
   "source": [
    "#NPS Post Test\n",
    "\n",
    "((nps_post_defined.NPS_1.str.count('Promoter').sum()/nps_post_defined.NPS_1.count())*100) - ((nps_post_defined.NPS_1.str.count('Detractor').sum()/nps_post_defined.NPS_1.count())*100)"
   ]
  },
  {
   "cell_type": "code",
   "execution_count": 29,
   "metadata": {},
   "outputs": [
    {
     "data": {
      "text/plain": [
       "8.0           9\n",
       "Detractors    6\n",
       "Promoters     5\n",
       "7.0           2\n",
       "Name: NPS_1, dtype: int64"
      ]
     },
     "execution_count": 29,
     "metadata": {},
     "output_type": "execute_result"
    }
   ],
   "source": [
    "#NPS Pre Values\n",
    "\n",
    "nps_pre_defined['NPS_1'].value_counts()"
   ]
  },
  {
   "cell_type": "code",
   "execution_count": 30,
   "metadata": {},
   "outputs": [
    {
     "data": {
      "text/plain": [
       "Promoters     13\n",
       "8.0            5\n",
       "Detractors     3\n",
       "7.0            1\n",
       "Name: NPS_1, dtype: int64"
      ]
     },
     "execution_count": 30,
     "metadata": {},
     "output_type": "execute_result"
    }
   ],
   "source": [
    "#NPS Post Values\n",
    "\n",
    "nps_post_defined['NPS_1'].value_counts()"
   ]
  },
  {
   "cell_type": "code",
   "execution_count": 31,
   "metadata": {},
   "outputs": [],
   "source": [
    "total = pre.append(post, ignore_index=True)"
   ]
  },
  {
   "cell_type": "code",
   "execution_count": 32,
   "metadata": {},
   "outputs": [],
   "source": [
    "pss_total = pd.melt(total, id_vars='timepoint', value_vars= 'PSS Total')"
   ]
  },
  {
   "cell_type": "code",
   "execution_count": 33,
   "metadata": {},
   "outputs": [],
   "source": [
    "pss_total_grouped = pss_total.groupby('timepoint', sort=False).mean().reset_index()"
   ]
  },
  {
   "cell_type": "code",
   "execution_count": 34,
   "metadata": {},
   "outputs": [
    {
     "data": {
      "text/html": [
       "<div>\n",
       "<style scoped>\n",
       "    .dataframe tbody tr th:only-of-type {\n",
       "        vertical-align: middle;\n",
       "    }\n",
       "\n",
       "    .dataframe tbody tr th {\n",
       "        vertical-align: top;\n",
       "    }\n",
       "\n",
       "    .dataframe thead th {\n",
       "        text-align: right;\n",
       "    }\n",
       "</style>\n",
       "<table border=\"1\" class=\"dataframe\">\n",
       "  <thead>\n",
       "    <tr style=\"text-align: right;\">\n",
       "      <th></th>\n",
       "      <th>timepoint</th>\n",
       "      <th>value</th>\n",
       "    </tr>\n",
       "  </thead>\n",
       "  <tbody>\n",
       "    <tr>\n",
       "      <th>0</th>\n",
       "      <td>pre</td>\n",
       "      <td>28.863636</td>\n",
       "    </tr>\n",
       "    <tr>\n",
       "      <th>1</th>\n",
       "      <td>post</td>\n",
       "      <td>23.045455</td>\n",
       "    </tr>\n",
       "  </tbody>\n",
       "</table>\n",
       "</div>"
      ],
      "text/plain": [
       "  timepoint      value\n",
       "0       pre  28.863636\n",
       "1      post  23.045455"
      ]
     },
     "execution_count": 34,
     "metadata": {},
     "output_type": "execute_result"
    }
   ],
   "source": [
    "pss_total_grouped"
   ]
  },
  {
   "cell_type": "code",
   "execution_count": 41,
   "metadata": {},
   "outputs": [
    {
     "data": {
      "image/png": "[encoded data removed]",
      "text/plain": [
       "<Figure size 1000x500 with 1 Axes>"
      ]
     },
     "metadata": {
      "needs_background": "light"
     },
     "output_type": "display_data"
    }
   ],
   "source": [
    "fig, ax = plt.subplots(figsize=(10, 5), dpi=100)\n",
    "\n",
    "sns.lineplot(\n",
    "    data=pss_total_grouped,\n",
    "    x=\"timepoint\",\n",
    "    y=\"value\",\n",
    "    ci=None,\n",
    "    color='mediumblue'\n",
    "    )\n",
    "ax.set(xlabel = \"Time\", ylabel = \"Mean PSS Score\")\n",
    "ax.set(title= \"Percieved Stress Scale Changes Over the School Term\")\n",
    "\n",
    "\n",
    "for x, y in zip(pss_total_grouped['timepoint'], pss_total_grouped['value']):\n",
    "    plt.text(x = x, y = y+0.05, s = '{:.1f}'.format(y), color = 'black', weight='semibold') #.set_backgroundcolor('lightblue')\n",
    "\n",
    "plt.text(1-0.95, 24, \"P = 0.0099\", horizontalalignment='left', size='medium', color='darkred', weight='semibold')\n",
    "plt.text(1-0.95, 23.5, \"N = 22\", horizontalalignment='left', size='medium', color='darkred', weight='semibold')\n",
    "\n",
    "labels = [item.get_text() for item in ax.get_xticklabels()]\n",
    "labels[0] = 'Baseline 2021'\n",
    "labels[1] = 'Follow-Up 2021'"
   ]
  },
  {
   "cell_type": "code",
   "execution_count": 36,
   "metadata": {},
   "outputs": [],
   "source": [
    "ffmq_total = pd.melt(total, id_vars='timepoint', value_vars= 'FFMQ Total')"
   ]
  },
  {
   "cell_type": "code",
   "execution_count": 37,
   "metadata": {},
   "outputs": [],
   "source": [
    "ffmq_total_grouped = ffmq_total.groupby('timepoint', sort=False).mean().reset_index()"
   ]
  },
  {
   "cell_type": "code",
   "execution_count": 38,
   "metadata": {},
   "outputs": [
    {
     "data": {
      "text/html": [
       "<div>\n",
       "<style scoped>\n",
       "    .dataframe tbody tr th:only-of-type {\n",
       "        vertical-align: middle;\n",
       "    }\n",
       "\n",
       "    .dataframe tbody tr th {\n",
       "        vertical-align: top;\n",
       "    }\n",
       "\n",
       "    .dataframe thead th {\n",
       "        text-align: right;\n",
       "    }\n",
       "</style>\n",
       "<table border=\"1\" class=\"dataframe\">\n",
       "  <thead>\n",
       "    <tr style=\"text-align: right;\">\n",
       "      <th></th>\n",
       "      <th>timepoint</th>\n",
       "      <th>value</th>\n",
       "    </tr>\n",
       "  </thead>\n",
       "  <tbody>\n",
       "    <tr>\n",
       "      <th>0</th>\n",
       "      <td>pre</td>\n",
       "      <td>114.681818</td>\n",
       "    </tr>\n",
       "    <tr>\n",
       "      <th>1</th>\n",
       "      <td>post</td>\n",
       "      <td>134.272727</td>\n",
       "    </tr>\n",
       "  </tbody>\n",
       "</table>\n",
       "</div>"
      ],
      "text/plain": [
       "  timepoint       value\n",
       "0       pre  114.681818\n",
       "1      post  134.272727"
      ]
     },
     "execution_count": 38,
     "metadata": {},
     "output_type": "execute_result"
    }
   ],
   "source": [
    "ffmq_total_grouped"
   ]
  },
  {
   "cell_type": "code",
   "execution_count": 44,
   "metadata": {},
   "outputs": [
    {
     "name": "stderr",
     "output_type": "stream",
     "text": [
      "/var/folders/z9/gdw88pxx7pnfg5bk987tzgqh0000gn/T/ipykernel_13578/2183973816.py:24: UserWarning: FixedFormatter should only be used together with FixedLocator\n",
      "  ax.set_xticklabels(labels)\n"
     ]
    },
    {
     "data": {
      "text/plain": [
       "[Text(0, 0, 'Baseline 2021'), Text(1, 0, 'Follow-Up 2021')]"
      ]
     },
     "execution_count": 44,
     "metadata": {},
     "output_type": "execute_result"
    },
    {
     "data": {
      "image/png": "[encoded data removed]",
      "text/plain": [
       "<Figure size 800x500 with 1 Axes>"
      ]
     },
     "metadata": {
      "needs_background": "light"
     },
     "output_type": "display_data"
    }
   ],
   "source": [
    "fig, ax = plt.subplots(figsize=(8, 5), dpi=100)\n",
    "\n",
    "sns.lineplot(\n",
    "    data=ffmq_total_grouped,\n",
    "    x=\"timepoint\",\n",
    "    y=\"value\",\n",
    "    ci=None,\n",
    "    color='mediumblue'\n",
    "    )\n",
    "ax.set(xlabel = \"Time\", ylabel = \"Mean FFMQ Score\")\n",
    "ax.set(title= \"Five-Facet Mindfulness Questionnaire Changes Over the School Term\")\n",
    "\n",
    "\n",
    "for x, y in zip(ffmq_total_grouped['timepoint'], ffmq_total_grouped['value']):\n",
    "    plt.text(x = x, y = y-0.8, s = '{:.1f}'.format(y), color = 'black', weight='semibold') #.set_backgroundcolor('lightblue')\n",
    "\n",
    "plt.text(1-0.95, 130, \"P = 0.0006\", horizontalalignment='left', size='medium', color='darkred', weight='semibold')\n",
    "plt.text(1-0.95, 129, \"N = 22\", horizontalalignment='left', size='medium', color='darkred', weight='semibold')\n",
    "\n",
    "labels = [item.get_text() for item in ax.get_xticklabels()]\n",
    "labels[0] = 'Baseline 2021'\n",
    "labels[1] = 'Follow-Up 2021'\n",
    "\n",
    "ax.set_xticklabels(labels)"
   ]
  },
  {
   "cell_type": "code",
   "execution_count": null,
   "metadata": {},
   "outputs": [],
   "source": []
  }
 ],
 "metadata": {
  "interpreter": {
   "hash": "31f2aee4e71d21fbe5cf8b01ff0e069b9275f58929596ceb00d14d90e3e16cd6"
  },
  "kernelspec": {
   "display_name": "Python 3.8.9 64-bit",
   "language": "python",
   "name": "python3"
  },
  "language_info": {
   "codemirror_mode": {
    "name": "ipython",
    "version": 3
   },
   "file_extension": ".py",
   "mimetype": "text/x-python",
   "name": "python",
   "nbconvert_exporter": "python",
   "pygments_lexer": "ipython3",
   "version": "3.9.7"
  },
  "orig_nbformat": 4
 },
 "nbformat": 4,
 "nbformat_minor": 2
}
